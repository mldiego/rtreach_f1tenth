{
 "cells": [
  {
   "cell_type": "code",
   "execution_count": 140,
   "metadata": {},
   "outputs": [],
   "source": [
    "import pandas as pd\n",
    "import numpy as np \n",
    "import seaborn as sns\n",
    "import matplotlib.pyplot as plt\n",
    "sns.set_theme(style=\"white\")\n",
    "import os\n",
    "import plotly.express as px\n",
    "from plotly.subplots import make_subplots\n",
    "from plotly import graph_objects as go"
   ]
  },
  {
   "cell_type": "code",
   "execution_count": 141,
   "metadata": {},
   "outputs": [],
   "source": [
    "df_barca = pd.read_csv('benchmark_experiments_barca.csv').rename(columns=lambda col: col.strip())\n",
    "df_barca['track'] = 'barca'\n",
    "df_walker = pd.read_csv('benchmark_experiments_racecar_walker.csv').rename(columns=lambda col: col.strip())\n",
    "df_walker['track'] = 'walker'\n",
    "df_porto = pd.read_csv('benchmark_experiments_porto.csv').rename(columns=lambda col: col.strip())\n",
    "df_porto['track'] = 'porto'"
   ]
  },
  {
   "cell_type": "code",
   "execution_count": 142,
   "metadata": {},
   "outputs": [
    {
     "data": {
      "text/html": [
       "<div>\n",
       "<style scoped>\n",
       "    .dataframe tbody tr th:only-of-type {\n",
       "        vertical-align: middle;\n",
       "    }\n",
       "\n",
       "    .dataframe tbody tr th {\n",
       "        vertical-align: top;\n",
       "    }\n",
       "\n",
       "    .dataframe thead th {\n",
       "        text-align: right;\n",
       "    }\n",
       "</style>\n",
       "<table border=\"1\" class=\"dataframe\">\n",
       "  <thead>\n",
       "    <tr style=\"text-align: right;\">\n",
       "      <th></th>\n",
       "      <th>time_string</th>\n",
       "      <th>time_taken_lec</th>\n",
       "      <th>time_taken_safety_controller</th>\n",
       "      <th>total_time</th>\n",
       "      <th>wcet</th>\n",
       "      <th>mean_reach_time</th>\n",
       "      <th>track</th>\n",
       "      <th>LEC Usage (%)</th>\n",
       "      <th>Safety Controller (%)</th>\n",
       "    </tr>\n",
       "  </thead>\n",
       "  <tbody>\n",
       "    <tr>\n",
       "      <th>0</th>\n",
       "      <td>17/02/2021/19:01:26</td>\n",
       "      <td>0.608143</td>\n",
       "      <td>21.34580</td>\n",
       "      <td>21.95400</td>\n",
       "      <td>0.066337</td>\n",
       "      <td>0.017489</td>\n",
       "      <td>barca</td>\n",
       "      <td>0.027701</td>\n",
       "      <td>0.972297</td>\n",
       "    </tr>\n",
       "    <tr>\n",
       "      <th>1</th>\n",
       "      <td>17/02/2021/19:03:06</td>\n",
       "      <td>0.267603</td>\n",
       "      <td>20.47160</td>\n",
       "      <td>20.73920</td>\n",
       "      <td>0.072020</td>\n",
       "      <td>0.016206</td>\n",
       "      <td>barca</td>\n",
       "      <td>0.012903</td>\n",
       "      <td>0.987097</td>\n",
       "    </tr>\n",
       "    <tr>\n",
       "      <th>2</th>\n",
       "      <td>17/02/2021/19:04:30</td>\n",
       "      <td>0.270863</td>\n",
       "      <td>20.37280</td>\n",
       "      <td>20.64370</td>\n",
       "      <td>0.053363</td>\n",
       "      <td>0.016413</td>\n",
       "      <td>barca</td>\n",
       "      <td>0.013121</td>\n",
       "      <td>0.986877</td>\n",
       "    </tr>\n",
       "    <tr>\n",
       "      <th>3</th>\n",
       "      <td>17/02/2021/19:06:10</td>\n",
       "      <td>0.307966</td>\n",
       "      <td>19.78680</td>\n",
       "      <td>20.09480</td>\n",
       "      <td>0.399027</td>\n",
       "      <td>0.016221</td>\n",
       "      <td>barca</td>\n",
       "      <td>0.015326</td>\n",
       "      <td>0.984673</td>\n",
       "    </tr>\n",
       "    <tr>\n",
       "      <th>4</th>\n",
       "      <td>17/02/2021/19:07:48</td>\n",
       "      <td>0.227950</td>\n",
       "      <td>19.98360</td>\n",
       "      <td>20.21150</td>\n",
       "      <td>0.058467</td>\n",
       "      <td>0.016037</td>\n",
       "      <td>barca</td>\n",
       "      <td>0.011278</td>\n",
       "      <td>0.988724</td>\n",
       "    </tr>\n",
       "    <tr>\n",
       "      <th>...</th>\n",
       "      <td>...</td>\n",
       "      <td>...</td>\n",
       "      <td>...</td>\n",
       "      <td>...</td>\n",
       "      <td>...</td>\n",
       "      <td>...</td>\n",
       "      <td>...</td>\n",
       "      <td>...</td>\n",
       "      <td>...</td>\n",
       "    </tr>\n",
       "    <tr>\n",
       "      <th>25</th>\n",
       "      <td>17/02/2021/16:57:19</td>\n",
       "      <td>13.495800</td>\n",
       "      <td>18.27020</td>\n",
       "      <td>31.76600</td>\n",
       "      <td>0.052940</td>\n",
       "      <td>0.029537</td>\n",
       "      <td>porto</td>\n",
       "      <td>0.424850</td>\n",
       "      <td>0.575150</td>\n",
       "    </tr>\n",
       "    <tr>\n",
       "      <th>26</th>\n",
       "      <td>17/02/2021/16:58:48</td>\n",
       "      <td>15.760000</td>\n",
       "      <td>16.23760</td>\n",
       "      <td>31.99750</td>\n",
       "      <td>0.052903</td>\n",
       "      <td>0.029510</td>\n",
       "      <td>porto</td>\n",
       "      <td>0.492538</td>\n",
       "      <td>0.507465</td>\n",
       "    </tr>\n",
       "    <tr>\n",
       "      <th>27</th>\n",
       "      <td>17/02/2021/17:00:29</td>\n",
       "      <td>0.249070</td>\n",
       "      <td>5.67068</td>\n",
       "      <td>5.91975</td>\n",
       "      <td>0.042822</td>\n",
       "      <td>0.001975</td>\n",
       "      <td>porto</td>\n",
       "      <td>0.042074</td>\n",
       "      <td>0.957926</td>\n",
       "    </tr>\n",
       "    <tr>\n",
       "      <th>28</th>\n",
       "      <td>17/02/2021/17:02:14</td>\n",
       "      <td>15.850100</td>\n",
       "      <td>17.28810</td>\n",
       "      <td>33.13820</td>\n",
       "      <td>0.054502</td>\n",
       "      <td>0.030354</td>\n",
       "      <td>porto</td>\n",
       "      <td>0.478303</td>\n",
       "      <td>0.521697</td>\n",
       "    </tr>\n",
       "    <tr>\n",
       "      <th>29</th>\n",
       "      <td>17/02/2021/17:03:55</td>\n",
       "      <td>15.687300</td>\n",
       "      <td>18.83740</td>\n",
       "      <td>34.52470</td>\n",
       "      <td>0.054547</td>\n",
       "      <td>0.029697</td>\n",
       "      <td>porto</td>\n",
       "      <td>0.454379</td>\n",
       "      <td>0.545621</td>\n",
       "    </tr>\n",
       "  </tbody>\n",
       "</table>\n",
       "<p>91 rows × 9 columns</p>\n",
       "</div>"
      ],
      "text/plain": [
       "            time_string  time_taken_lec  time_taken_safety_controller  \\\n",
       "0   17/02/2021/19:01:26        0.608143                      21.34580   \n",
       "1   17/02/2021/19:03:06        0.267603                      20.47160   \n",
       "2   17/02/2021/19:04:30        0.270863                      20.37280   \n",
       "3   17/02/2021/19:06:10        0.307966                      19.78680   \n",
       "4   17/02/2021/19:07:48        0.227950                      19.98360   \n",
       "..                  ...             ...                           ...   \n",
       "25  17/02/2021/16:57:19       13.495800                      18.27020   \n",
       "26  17/02/2021/16:58:48       15.760000                      16.23760   \n",
       "27  17/02/2021/17:00:29        0.249070                       5.67068   \n",
       "28  17/02/2021/17:02:14       15.850100                      17.28810   \n",
       "29  17/02/2021/17:03:55       15.687300                      18.83740   \n",
       "\n",
       "    total_time      wcet  mean_reach_time  track  LEC Usage (%)  \\\n",
       "0     21.95400  0.066337         0.017489  barca       0.027701   \n",
       "1     20.73920  0.072020         0.016206  barca       0.012903   \n",
       "2     20.64370  0.053363         0.016413  barca       0.013121   \n",
       "3     20.09480  0.399027         0.016221  barca       0.015326   \n",
       "4     20.21150  0.058467         0.016037  barca       0.011278   \n",
       "..         ...       ...              ...    ...            ...   \n",
       "25    31.76600  0.052940         0.029537  porto       0.424850   \n",
       "26    31.99750  0.052903         0.029510  porto       0.492538   \n",
       "27     5.91975  0.042822         0.001975  porto       0.042074   \n",
       "28    33.13820  0.054502         0.030354  porto       0.478303   \n",
       "29    34.52470  0.054547         0.029697  porto       0.454379   \n",
       "\n",
       "    Safety Controller (%)  \n",
       "0                0.972297  \n",
       "1                0.987097  \n",
       "2                0.986877  \n",
       "3                0.984673  \n",
       "4                0.988724  \n",
       "..                    ...  \n",
       "25               0.575150  \n",
       "26               0.507465  \n",
       "27               0.957926  \n",
       "28               0.521697  \n",
       "29               0.545621  \n",
       "\n",
       "[91 rows x 9 columns]"
      ]
     },
     "execution_count": 142,
     "metadata": {},
     "output_type": "execute_result"
    }
   ],
   "source": [
    "results = pd.concat([df_barca,df_walker,df_porto])\n",
    "results['LEC Usage (%)'] = results['time_taken_lec']/results['total_time'] \n",
    "results['Safety Controller (%)'] = results['time_taken_safety_controller'] / results['total_time']\n",
    "results"
   ]
  },
  {
   "cell_type": "code",
   "execution_count": 143,
   "metadata": {},
   "outputs": [
    {
     "data": {
      "text/html": [
       "<div>\n",
       "<style scoped>\n",
       "    .dataframe tbody tr th:only-of-type {\n",
       "        vertical-align: middle;\n",
       "    }\n",
       "\n",
       "    .dataframe tbody tr th {\n",
       "        vertical-align: top;\n",
       "    }\n",
       "\n",
       "    .dataframe thead th {\n",
       "        text-align: right;\n",
       "    }\n",
       "</style>\n",
       "<table border=\"1\" class=\"dataframe\">\n",
       "  <thead>\n",
       "    <tr style=\"text-align: right;\">\n",
       "      <th></th>\n",
       "      <th>track</th>\n",
       "      <th>time_taken_lec</th>\n",
       "      <th>time_taken_safety_controller</th>\n",
       "      <th>total_time</th>\n",
       "      <th>wcet</th>\n",
       "      <th>mean_reach_time</th>\n",
       "      <th>LEC Usage (%)</th>\n",
       "      <th>Safety Controller (%)</th>\n",
       "    </tr>\n",
       "  </thead>\n",
       "  <tbody>\n",
       "    <tr>\n",
       "      <th>0</th>\n",
       "      <td>barca</td>\n",
       "      <td>0.287813</td>\n",
       "      <td>19.7092</td>\n",
       "      <td>20.09480</td>\n",
       "      <td>0.058467</td>\n",
       "      <td>0.015991</td>\n",
       "      <td>0.014205</td>\n",
       "      <td>0.985796</td>\n",
       "    </tr>\n",
       "    <tr>\n",
       "      <th>1</th>\n",
       "      <td>porto</td>\n",
       "      <td>15.310850</td>\n",
       "      <td>17.5103</td>\n",
       "      <td>33.43290</td>\n",
       "      <td>0.054496</td>\n",
       "      <td>0.029599</td>\n",
       "      <td>0.457532</td>\n",
       "      <td>0.542469</td>\n",
       "    </tr>\n",
       "    <tr>\n",
       "      <th>2</th>\n",
       "      <td>walker</td>\n",
       "      <td>3.331130</td>\n",
       "      <td>34.3173</td>\n",
       "      <td>38.42325</td>\n",
       "      <td>0.052000</td>\n",
       "      <td>0.035232</td>\n",
       "      <td>0.088867</td>\n",
       "      <td>0.911132</td>\n",
       "    </tr>\n",
       "  </tbody>\n",
       "</table>\n",
       "</div>"
      ],
      "text/plain": [
       "    track  time_taken_lec  time_taken_safety_controller  total_time      wcet  \\\n",
       "0   barca        0.287813                       19.7092    20.09480  0.058467   \n",
       "1   porto       15.310850                       17.5103    33.43290  0.054496   \n",
       "2  walker        3.331130                       34.3173    38.42325  0.052000   \n",
       "\n",
       "   mean_reach_time  LEC Usage (%)  Safety Controller (%)  \n",
       "0         0.015991       0.014205               0.985796  \n",
       "1         0.029599       0.457532               0.542469  \n",
       "2         0.035232       0.088867               0.911132  "
      ]
     },
     "execution_count": 143,
     "metadata": {},
     "output_type": "execute_result"
    }
   ],
   "source": [
    "results.groupby('track').median().reset_index()"
   ]
  },
  {
   "cell_type": "code",
   "execution_count": 144,
   "metadata": {},
   "outputs": [
    {
     "data": {
      "text/html": [
       "<div>\n",
       "<style scoped>\n",
       "    .dataframe tbody tr th:only-of-type {\n",
       "        vertical-align: middle;\n",
       "    }\n",
       "\n",
       "    .dataframe tbody tr th {\n",
       "        vertical-align: top;\n",
       "    }\n",
       "\n",
       "    .dataframe thead th {\n",
       "        text-align: right;\n",
       "    }\n",
       "</style>\n",
       "<table border=\"1\" class=\"dataframe\">\n",
       "  <thead>\n",
       "    <tr style=\"text-align: right;\">\n",
       "      <th></th>\n",
       "      <th>time_string</th>\n",
       "      <th>time_taken_lec</th>\n",
       "      <th>time_taken_safety_controller</th>\n",
       "      <th>total_time</th>\n",
       "      <th>wcet</th>\n",
       "      <th>mean_reach_time</th>\n",
       "      <th>track</th>\n",
       "      <th>LEC Usage (%)</th>\n",
       "      <th>Safety Controller (%)</th>\n",
       "    </tr>\n",
       "  </thead>\n",
       "  <tbody>\n",
       "    <tr>\n",
       "      <th>0</th>\n",
       "      <td>17/02/2021/19:01:26</td>\n",
       "      <td>0.608143</td>\n",
       "      <td>21.34580</td>\n",
       "      <td>21.95400</td>\n",
       "      <td>0.066337</td>\n",
       "      <td>0.017489</td>\n",
       "      <td>barca</td>\n",
       "      <td>0.027701</td>\n",
       "      <td>0.972297</td>\n",
       "    </tr>\n",
       "    <tr>\n",
       "      <th>1</th>\n",
       "      <td>17/02/2021/19:03:06</td>\n",
       "      <td>0.267603</td>\n",
       "      <td>20.47160</td>\n",
       "      <td>20.73920</td>\n",
       "      <td>0.072020</td>\n",
       "      <td>0.016206</td>\n",
       "      <td>barca</td>\n",
       "      <td>0.012903</td>\n",
       "      <td>0.987097</td>\n",
       "    </tr>\n",
       "    <tr>\n",
       "      <th>2</th>\n",
       "      <td>17/02/2021/19:04:30</td>\n",
       "      <td>0.270863</td>\n",
       "      <td>20.37280</td>\n",
       "      <td>20.64370</td>\n",
       "      <td>0.053363</td>\n",
       "      <td>0.016413</td>\n",
       "      <td>barca</td>\n",
       "      <td>0.013121</td>\n",
       "      <td>0.986877</td>\n",
       "    </tr>\n",
       "    <tr>\n",
       "      <th>3</th>\n",
       "      <td>17/02/2021/19:06:10</td>\n",
       "      <td>0.307966</td>\n",
       "      <td>19.78680</td>\n",
       "      <td>20.09480</td>\n",
       "      <td>0.399027</td>\n",
       "      <td>0.016221</td>\n",
       "      <td>barca</td>\n",
       "      <td>0.015326</td>\n",
       "      <td>0.984673</td>\n",
       "    </tr>\n",
       "    <tr>\n",
       "      <th>4</th>\n",
       "      <td>17/02/2021/19:07:48</td>\n",
       "      <td>0.227950</td>\n",
       "      <td>19.98360</td>\n",
       "      <td>20.21150</td>\n",
       "      <td>0.058467</td>\n",
       "      <td>0.016037</td>\n",
       "      <td>barca</td>\n",
       "      <td>0.011278</td>\n",
       "      <td>0.988724</td>\n",
       "    </tr>\n",
       "    <tr>\n",
       "      <th>...</th>\n",
       "      <td>...</td>\n",
       "      <td>...</td>\n",
       "      <td>...</td>\n",
       "      <td>...</td>\n",
       "      <td>...</td>\n",
       "      <td>...</td>\n",
       "      <td>...</td>\n",
       "      <td>...</td>\n",
       "      <td>...</td>\n",
       "    </tr>\n",
       "    <tr>\n",
       "      <th>25</th>\n",
       "      <td>17/02/2021/16:57:19</td>\n",
       "      <td>13.495800</td>\n",
       "      <td>18.27020</td>\n",
       "      <td>31.76600</td>\n",
       "      <td>0.052940</td>\n",
       "      <td>0.029537</td>\n",
       "      <td>porto</td>\n",
       "      <td>0.424850</td>\n",
       "      <td>0.575150</td>\n",
       "    </tr>\n",
       "    <tr>\n",
       "      <th>26</th>\n",
       "      <td>17/02/2021/16:58:48</td>\n",
       "      <td>15.760000</td>\n",
       "      <td>16.23760</td>\n",
       "      <td>31.99750</td>\n",
       "      <td>0.052903</td>\n",
       "      <td>0.029510</td>\n",
       "      <td>porto</td>\n",
       "      <td>0.492538</td>\n",
       "      <td>0.507465</td>\n",
       "    </tr>\n",
       "    <tr>\n",
       "      <th>27</th>\n",
       "      <td>17/02/2021/17:00:29</td>\n",
       "      <td>0.249070</td>\n",
       "      <td>5.67068</td>\n",
       "      <td>5.91975</td>\n",
       "      <td>0.042822</td>\n",
       "      <td>0.001975</td>\n",
       "      <td>porto</td>\n",
       "      <td>0.042074</td>\n",
       "      <td>0.957926</td>\n",
       "    </tr>\n",
       "    <tr>\n",
       "      <th>28</th>\n",
       "      <td>17/02/2021/17:02:14</td>\n",
       "      <td>15.850100</td>\n",
       "      <td>17.28810</td>\n",
       "      <td>33.13820</td>\n",
       "      <td>0.054502</td>\n",
       "      <td>0.030354</td>\n",
       "      <td>porto</td>\n",
       "      <td>0.478303</td>\n",
       "      <td>0.521697</td>\n",
       "    </tr>\n",
       "    <tr>\n",
       "      <th>29</th>\n",
       "      <td>17/02/2021/17:03:55</td>\n",
       "      <td>15.687300</td>\n",
       "      <td>18.83740</td>\n",
       "      <td>34.52470</td>\n",
       "      <td>0.054547</td>\n",
       "      <td>0.029697</td>\n",
       "      <td>porto</td>\n",
       "      <td>0.454379</td>\n",
       "      <td>0.545621</td>\n",
       "    </tr>\n",
       "  </tbody>\n",
       "</table>\n",
       "<p>91 rows × 9 columns</p>\n",
       "</div>"
      ],
      "text/plain": [
       "            time_string  time_taken_lec  time_taken_safety_controller  \\\n",
       "0   17/02/2021/19:01:26        0.608143                      21.34580   \n",
       "1   17/02/2021/19:03:06        0.267603                      20.47160   \n",
       "2   17/02/2021/19:04:30        0.270863                      20.37280   \n",
       "3   17/02/2021/19:06:10        0.307966                      19.78680   \n",
       "4   17/02/2021/19:07:48        0.227950                      19.98360   \n",
       "..                  ...             ...                           ...   \n",
       "25  17/02/2021/16:57:19       13.495800                      18.27020   \n",
       "26  17/02/2021/16:58:48       15.760000                      16.23760   \n",
       "27  17/02/2021/17:00:29        0.249070                       5.67068   \n",
       "28  17/02/2021/17:02:14       15.850100                      17.28810   \n",
       "29  17/02/2021/17:03:55       15.687300                      18.83740   \n",
       "\n",
       "    total_time      wcet  mean_reach_time  track  LEC Usage (%)  \\\n",
       "0     21.95400  0.066337         0.017489  barca       0.027701   \n",
       "1     20.73920  0.072020         0.016206  barca       0.012903   \n",
       "2     20.64370  0.053363         0.016413  barca       0.013121   \n",
       "3     20.09480  0.399027         0.016221  barca       0.015326   \n",
       "4     20.21150  0.058467         0.016037  barca       0.011278   \n",
       "..         ...       ...              ...    ...            ...   \n",
       "25    31.76600  0.052940         0.029537  porto       0.424850   \n",
       "26    31.99750  0.052903         0.029510  porto       0.492538   \n",
       "27     5.91975  0.042822         0.001975  porto       0.042074   \n",
       "28    33.13820  0.054502         0.030354  porto       0.478303   \n",
       "29    34.52470  0.054547         0.029697  porto       0.454379   \n",
       "\n",
       "    Safety Controller (%)  \n",
       "0                0.972297  \n",
       "1                0.987097  \n",
       "2                0.986877  \n",
       "3                0.984673  \n",
       "4                0.988724  \n",
       "..                    ...  \n",
       "25               0.575150  \n",
       "26               0.507465  \n",
       "27               0.957926  \n",
       "28               0.521697  \n",
       "29               0.545621  \n",
       "\n",
       "[91 rows x 9 columns]"
      ]
     },
     "execution_count": 144,
     "metadata": {},
     "output_type": "execute_result"
    }
   ],
   "source": [
    "results"
   ]
  },
  {
   "cell_type": "code",
   "execution_count": 145,
   "metadata": {},
   "outputs": [
    {
     "data": {
      "image/png": "[encoded data removed]",
      "text/plain": [
       "<Figure size 1080x576 with 1 Axes>"
      ]
     },
     "metadata": {},
     "output_type": "display_data"
    }
   ],
   "source": [
    "plt.figure(figsize=(15,8))\n",
    "ax =  sns.stripplot(x=\"track\", y=\"LEC Usage (%)\", data=results)\n",
    "ax.spines['left'].set_color('#dddddd')\n",
    "sns.despine(left=False, bottom=False, right=True)"
   ]
  },
  {
   "cell_type": "code",
   "execution_count": 146,
   "metadata": {},
   "outputs": [
    {
     "data": {
      "application/vnd.plotly.v1+json": {
       "config": {
        "plotlyServerURL": "https://plot.ly"
       },
       "data": [
        {
         "name": "Safety Controller",
         "offsetgroup": "0",
         "type": "bar",
         "x": [
          "barca",
          "porto",
          "walker"
         ],
         "y": [
          0.9857964813566606,
          0.5424690330511972,
          0.9111320832057358
         ]
        },
        {
         "name": "LEC",
         "offsetgroup": "1",
         "type": "bar",
         "x": [
          "barca",
          "porto",
          "walker"
         ],
         "y": [
          0.014204544344479285,
          0.45753241781801857,
          0.08886733098491
         ]
        }
       ],
       "layout": {
        "barmode": "relative",
        "template": {
         "data": {
          "bar": [
           {
            "error_x": {
             "color": "#2a3f5f"
            },
            "error_y": {
             "color": "#2a3f5f"
            },
            "marker": {
             "line": {
              "color": "#E5ECF6",
              "width": 0.5
             }
            },
            "type": "bar"
           }
          ],
          "barpolar": [
           {
            "marker": {
             "line": {
              "color": "#E5ECF6",
              "width": 0.5
             }
            },
            "type": "barpolar"
           }
          ],
          "carpet": [
           {
            "aaxis": {
             "endlinecolor": "#2a3f5f",
             "gridcolor": "white",
             "linecolor": "white",
             "minorgridcolor": "white",
             "startlinecolor": "#2a3f5f"
            },
            "baxis": {
             "endlinecolor": "#2a3f5f",
             "gridcolor": "white",
             "linecolor": "white",
             "minorgridcolor": "white",
             "startlinecolor": "#2a3f5f"
            },
            "type": "carpet"
           }
          ],
          "choropleth": [
           {
            "colorbar": {
             "outlinewidth": 0,
             "ticks": ""
            },
            "type": "choropleth"
           }
          ],
          "contour": [
           {
            "colorbar": {
             "outlinewidth": 0,
             "ticks": ""
            },
            "colorscale": [
             [
              0,
              "#0d0887"
             ],
             [
              0.1111111111111111,
              "#46039f"
             ],
             [
              0.2222222222222222,
              "#7201a8"
             ],
             [
              0.3333333333333333,
              "#9c179e"
             ],
             [
              0.4444444444444444,
              "#bd3786"
             ],
             [
              0.5555555555555556,
              "#d8576b"
             ],
             [
              0.6666666666666666,
              "#ed7953"
             ],
             [
              0.7777777777777778,
              "#fb9f3a"
             ],
             [
              0.8888888888888888,
              "#fdca26"
             ],
             [
              1,
              "#f0f921"
             ]
            ],
            "type": "contour"
           }
          ],
          "contourcarpet": [
           {
            "colorbar": {
             "outlinewidth": 0,
             "ticks": ""
            },
            "type": "contourcarpet"
           }
          ],
          "heatmap": [
           {
            "colorbar": {
             "outlinewidth": 0,
             "ticks": ""
            },
            "colorscale": [
             [
              0,
              "#0d0887"
             ],
             [
              0.1111111111111111,
              "#46039f"
             ],
             [
              0.2222222222222222,
              "#7201a8"
             ],
             [
              0.3333333333333333,
              "#9c179e"
             ],
             [
              0.4444444444444444,
              "#bd3786"
             ],
             [
              0.5555555555555556,
              "#d8576b"
             ],
             [
              0.6666666666666666,
              "#ed7953"
             ],
             [
              0.7777777777777778,
              "#fb9f3a"
             ],
             [
              0.8888888888888888,
              "#fdca26"
             ],
             [
              1,
              "#f0f921"
             ]
            ],
            "type": "heatmap"
           }
          ],
          "heatmapgl": [
           {
            "colorbar": {
             "outlinewidth": 0,
             "ticks": ""
            },
            "colorscale": [
             [
              0,
              "#0d0887"
             ],
             [
              0.1111111111111111,
              "#46039f"
             ],
             [
              0.2222222222222222,
              "#7201a8"
             ],
             [
              0.3333333333333333,
              "#9c179e"
             ],
             [
              0.4444444444444444,
              "#bd3786"
             ],
             [
              0.5555555555555556,
              "#d8576b"
             ],
             [
              0.6666666666666666,
              "#ed7953"
             ],
             [
              0.7777777777777778,
              "#fb9f3a"
             ],
             [
              0.8888888888888888,
              "#fdca26"
             ],
             [
              1,
              "#f0f921"
             ]
            ],
            "type": "heatmapgl"
           }
          ],
          "histogram": [
           {
            "marker": {
             "colorbar": {
              "outlinewidth": 0,
              "ticks": ""
             }
            },
            "type": "histogram"
           }
          ],
          "histogram2d": [
           {
            "colorbar": {
             "outlinewidth": 0,
             "ticks": ""
            },
            "colorscale": [
             [
              0,
              "#0d0887"
             ],
             [
              0.1111111111111111,
              "#46039f"
             ],
             [
              0.2222222222222222,
              "#7201a8"
             ],
             [
              0.3333333333333333,
              "#9c179e"
             ],
             [
              0.4444444444444444,
              "#bd3786"
             ],
             [
              0.5555555555555556,
              "#d8576b"
             ],
             [
              0.6666666666666666,
              "#ed7953"
             ],
             [
              0.7777777777777778,
              "#fb9f3a"
             ],
             [
              0.8888888888888888,
              "#fdca26"
             ],
             [
              1,
              "#f0f921"
             ]
            ],
            "type": "histogram2d"
           }
          ],
          "histogram2dcontour": [
           {
            "colorbar": {
             "outlinewidth": 0,
             "ticks": ""
            },
            "colorscale": [
             [
              0,
              "#0d0887"
             ],
             [
              0.1111111111111111,
              "#46039f"
             ],
             [
              0.2222222222222222,
              "#7201a8"
             ],
             [
              0.3333333333333333,
              "#9c179e"
             ],
             [
              0.4444444444444444,
              "#bd3786"
             ],
             [
              0.5555555555555556,
              "#d8576b"
             ],
             [
              0.6666666666666666,
              "#ed7953"
             ],
             [
              0.7777777777777778,
              "#fb9f3a"
             ],
             [
              0.8888888888888888,
              "#fdca26"
             ],
             [
              1,
              "#f0f921"
             ]
            ],
            "type": "histogram2dcontour"
           }
          ],
          "mesh3d": [
           {
            "colorbar": {
             "outlinewidth": 0,
             "ticks": ""
            },
            "type": "mesh3d"
           }
          ],
          "parcoords": [
           {
            "line": {
             "colorbar": {
              "outlinewidth": 0,
              "ticks": ""
             }
            },
            "type": "parcoords"
           }
          ],
          "pie": [
           {
            "automargin": true,
            "type": "pie"
           }
          ],
          "scatter": [
           {
            "marker": {
             "colorbar": {
              "outlinewidth": 0,
              "ticks": ""
             }
            },
            "type": "scatter"
           }
          ],
          "scatter3d": [
           {
            "line": {
             "colorbar": {
              "outlinewidth": 0,
              "ticks": ""
             }
            },
            "marker": {
             "colorbar": {
              "outlinewidth": 0,
              "ticks": ""
             }
            },
            "type": "scatter3d"
           }
          ],
          "scattercarpet": [
           {
            "marker": {
             "colorbar": {
              "outlinewidth": 0,
              "ticks": ""
             }
            },
            "type": "scattercarpet"
           }
          ],
          "scattergeo": [
           {
            "marker": {
             "colorbar": {
              "outlinewidth": 0,
              "ticks": ""
             }
            },
            "type": "scattergeo"
           }
          ],
          "scattergl": [
           {
            "marker": {
             "colorbar": {
              "outlinewidth": 0,
              "ticks": ""
             }
            },
            "type": "scattergl"
           }
          ],
          "scattermapbox": [
           {
            "marker": {
             "colorbar": {
              "outlinewidth": 0,
              "ticks": ""
             }
            },
            "type": "scattermapbox"
           }
          ],
          "scatterpolar": [
           {
            "marker": {
             "colorbar": {
              "outlinewidth": 0,
              "ticks": ""
             }
            },
            "type": "scatterpolar"
           }
          ],
          "scatterpolargl": [
           {
            "marker": {
             "colorbar": {
              "outlinewidth": 0,
              "ticks": ""
             }
            },
            "type": "scatterpolargl"
           }
          ],
          "scatterternary": [
           {
            "marker": {
             "colorbar": {
              "outlinewidth": 0,
              "ticks": ""
             }
            },
            "type": "scatterternary"
           }
          ],
          "surface": [
           {
            "colorbar": {
             "outlinewidth": 0,
             "ticks": ""
            },
            "colorscale": [
             [
              0,
              "#0d0887"
             ],
             [
              0.1111111111111111,
              "#46039f"
             ],
             [
              0.2222222222222222,
              "#7201a8"
             ],
             [
              0.3333333333333333,
              "#9c179e"
             ],
             [
              0.4444444444444444,
              "#bd3786"
             ],
             [
              0.5555555555555556,
              "#d8576b"
             ],
             [
              0.6666666666666666,
              "#ed7953"
             ],
             [
              0.7777777777777778,
              "#fb9f3a"
             ],
             [
              0.8888888888888888,
              "#fdca26"
             ],
             [
              1,
              "#f0f921"
             ]
            ],
            "type": "surface"
           }
          ],
          "table": [
           {
            "cells": {
             "fill": {
              "color": "#EBF0F8"
             },
             "line": {
              "color": "white"
             }
            },
            "header": {
             "fill": {
              "color": "#C8D4E3"
             },
             "line": {
              "color": "white"
             }
            },
            "type": "table"
           }
          ]
         },
         "layout": {
          "annotationdefaults": {
           "arrowcolor": "#2a3f5f",
           "arrowhead": 0,
           "arrowwidth": 1
          },
          "coloraxis": {
           "colorbar": {
            "outlinewidth": 0,
            "ticks": ""
           }
          },
          "colorscale": {
           "diverging": [
            [
             0,
             "#8e0152"
            ],
            [
             0.1,
             "#c51b7d"
            ],
            [
             0.2,
             "#de77ae"
            ],
            [
             0.3,
             "#f1b6da"
            ],
            [
             0.4,
             "#fde0ef"
            ],
            [
             0.5,
             "#f7f7f7"
            ],
            [
             0.6,
             "#e6f5d0"
            ],
            [
             0.7,
             "#b8e186"
            ],
            [
             0.8,
             "#7fbc41"
            ],
            [
             0.9,
             "#4d9221"
            ],
            [
             1,
             "#276419"
            ]
           ],
           "sequential": [
            [
             0,
             "#0d0887"
            ],
            [
             0.1111111111111111,
             "#46039f"
            ],
            [
             0.2222222222222222,
             "#7201a8"
            ],
            [
             0.3333333333333333,
             "#9c179e"
            ],
            [
             0.4444444444444444,
             "#bd3786"
            ],
            [
             0.5555555555555556,
             "#d8576b"
            ],
            [
             0.6666666666666666,
             "#ed7953"
            ],
            [
             0.7777777777777778,
             "#fb9f3a"
            ],
            [
             0.8888888888888888,
             "#fdca26"
            ],
            [
             1,
             "#f0f921"
            ]
           ],
           "sequentialminus": [
            [
             0,
             "#0d0887"
            ],
            [
             0.1111111111111111,
             "#46039f"
            ],
            [
             0.2222222222222222,
             "#7201a8"
            ],
            [
             0.3333333333333333,
             "#9c179e"
            ],
            [
             0.4444444444444444,
             "#bd3786"
            ],
            [
             0.5555555555555556,
             "#d8576b"
            ],
            [
             0.6666666666666666,
             "#ed7953"
            ],
            [
             0.7777777777777778,
             "#fb9f3a"
            ],
            [
             0.8888888888888888,
             "#fdca26"
            ],
            [
             1,
             "#f0f921"
            ]
           ]
          },
          "colorway": [
           "#636efa",
           "#EF553B",
           "#00cc96",
           "#ab63fa",
           "#FFA15A",
           "#19d3f3",
           "#FF6692",
           "#B6E880",
           "#FF97FF",
           "#FECB52"
          ],
          "font": {
           "color": "#2a3f5f"
          },
          "geo": {
           "bgcolor": "white",
           "lakecolor": "white",
           "landcolor": "#E5ECF6",
           "showlakes": true,
           "showland": true,
           "subunitcolor": "white"
          },
          "hoverlabel": {
           "align": "left"
          },
          "hovermode": "closest",
          "mapbox": {
           "style": "light"
          },
          "paper_bgcolor": "white",
          "plot_bgcolor": "#E5ECF6",
          "polar": {
           "angularaxis": {
            "gridcolor": "white",
            "linecolor": "white",
            "ticks": ""
           },
           "bgcolor": "#E5ECF6",
           "radialaxis": {
            "gridcolor": "white",
            "linecolor": "white",
            "ticks": ""
           }
          },
          "scene": {
           "xaxis": {
            "backgroundcolor": "#E5ECF6",
            "gridcolor": "white",
            "gridwidth": 2,
            "linecolor": "white",
            "showbackground": true,
            "ticks": "",
            "zerolinecolor": "white"
           },
           "yaxis": {
            "backgroundcolor": "#E5ECF6",
            "gridcolor": "white",
            "gridwidth": 2,
            "linecolor": "white",
            "showbackground": true,
            "ticks": "",
            "zerolinecolor": "white"
           },
           "zaxis": {
            "backgroundcolor": "#E5ECF6",
            "gridcolor": "white",
            "gridwidth": 2,
            "linecolor": "white",
            "showbackground": true,
            "ticks": "",
            "zerolinecolor": "white"
           }
          },
          "shapedefaults": {
           "line": {
            "color": "#2a3f5f"
           }
          },
          "ternary": {
           "aaxis": {
            "gridcolor": "white",
            "linecolor": "white",
            "ticks": ""
           },
           "baxis": {
            "gridcolor": "white",
            "linecolor": "white",
            "ticks": ""
           },
           "bgcolor": "#E5ECF6",
           "caxis": {
            "gridcolor": "white",
            "linecolor": "white",
            "ticks": ""
           }
          },
          "title": {
           "x": 0.05
          },
          "xaxis": {
           "automargin": true,
           "gridcolor": "white",
           "linecolor": "white",
           "ticks": "",
           "title": {
            "standoff": 15
           },
           "zerolinecolor": "white",
           "zerolinewidth": 2
          },
          "yaxis": {
           "automargin": true,
           "gridcolor": "white",
           "linecolor": "white",
           "ticks": "",
           "title": {
            "standoff": 15
           },
           "zerolinecolor": "white",
           "zerolinewidth": 2
          }
         }
        },
        "title": {
         "text": "Track and Controller Usage"
        },
        "xaxis": {
         "title": {
          "text": "Track"
         }
        },
        "yaxis": {
         "title": {
          "text": "Usage %"
         }
        }
       }
      },
      "text/html": [
       "<div>                            <div id=\"6a090e83-100f-4a71-bc5e-92117a539d4f\" class=\"plotly-graph-div\" style=\"height:525px; width:100%;\"></div>            <script type=\"text/javascript\">                require([\"plotly\"], function(Plotly) {                    window.PLOTLYENV=window.PLOTLYENV || {};                                    if (document.getElementById(\"6a090e83-100f-4a71-bc5e-92117a539d4f\")) {                    Plotly.newPlot(                        \"6a090e83-100f-4a71-bc5e-92117a539d4f\",                        [{\"name\": \"Safety Controller\", \"offsetgroup\": \"0\", \"type\": \"bar\", \"x\": [\"barca\", \"porto\", \"walker\"], \"y\": [0.9857964813566606, 0.5424690330511972, 0.9111320832057358]}, {\"name\": \"LEC\", \"offsetgroup\": \"1\", \"type\": \"bar\", \"x\": [\"barca\", \"porto\", \"walker\"], \"y\": [0.014204544344479285, 0.45753241781801857, 0.08886733098491]}],                        {\"barmode\": \"relative\", \"template\": {\"data\": {\"bar\": [{\"error_x\": {\"color\": \"#2a3f5f\"}, \"error_y\": {\"color\": \"#2a3f5f\"}, \"marker\": {\"line\": {\"color\": \"#E5ECF6\", \"width\": 0.5}}, \"type\": \"bar\"}], \"barpolar\": [{\"marker\": {\"line\": {\"color\": \"#E5ECF6\", \"width\": 0.5}}, \"type\": \"barpolar\"}], \"carpet\": [{\"aaxis\": {\"endlinecolor\": \"#2a3f5f\", \"gridcolor\": \"white\", \"linecolor\": \"white\", \"minorgridcolor\": \"white\", \"startlinecolor\": \"#2a3f5f\"}, \"baxis\": {\"endlinecolor\": \"#2a3f5f\", \"gridcolor\": \"white\", \"linecolor\": \"white\", \"minorgridcolor\": \"white\", \"startlinecolor\": \"#2a3f5f\"}, \"type\": \"carpet\"}], \"choropleth\": [{\"colorbar\": {\"outlinewidth\": 0, \"ticks\": \"\"}, \"type\": \"choropleth\"}], \"contour\": [{\"colorbar\": {\"outlinewidth\": 0, \"ticks\": \"\"}, \"colorscale\": [[0.0, \"#0d0887\"], [0.1111111111111111, \"#46039f\"], [0.2222222222222222, \"#7201a8\"], [0.3333333333333333, \"#9c179e\"], [0.4444444444444444, \"#bd3786\"], [0.5555555555555556, \"#d8576b\"], [0.6666666666666666, \"#ed7953\"], [0.7777777777777778, \"#fb9f3a\"], [0.8888888888888888, \"#fdca26\"], [1.0, \"#f0f921\"]], \"type\": \"contour\"}], \"contourcarpet\": [{\"colorbar\": {\"outlinewidth\": 0, \"ticks\": \"\"}, \"type\": \"contourcarpet\"}], \"heatmap\": [{\"colorbar\": {\"outlinewidth\": 0, \"ticks\": \"\"}, \"colorscale\": [[0.0, \"#0d0887\"], [0.1111111111111111, \"#46039f\"], [0.2222222222222222, \"#7201a8\"], [0.3333333333333333, \"#9c179e\"], [0.4444444444444444, \"#bd3786\"], [0.5555555555555556, \"#d8576b\"], [0.6666666666666666, \"#ed7953\"], [0.7777777777777778, \"#fb9f3a\"], [0.8888888888888888, \"#fdca26\"], [1.0, \"#f0f921\"]], \"type\": \"heatmap\"}], \"heatmapgl\": [{\"colorbar\": {\"outlinewidth\": 0, \"ticks\": \"\"}, \"colorscale\": [[0.0, \"#0d0887\"], [0.1111111111111111, \"#46039f\"], [0.2222222222222222, \"#7201a8\"], [0.3333333333333333, \"#9c179e\"], [0.4444444444444444, \"#bd3786\"], [0.5555555555555556, \"#d8576b\"], [0.6666666666666666, \"#ed7953\"], [0.7777777777777778, \"#fb9f3a\"], [0.8888888888888888, \"#fdca26\"], [1.0, \"#f0f921\"]], \"type\": \"heatmapgl\"}], \"histogram\": [{\"marker\": {\"colorbar\": {\"outlinewidth\": 0, \"ticks\": \"\"}}, \"type\": \"histogram\"}], \"histogram2d\": [{\"colorbar\": {\"outlinewidth\": 0, \"ticks\": \"\"}, \"colorscale\": [[0.0, \"#0d0887\"], [0.1111111111111111, \"#46039f\"], [0.2222222222222222, \"#7201a8\"], [0.3333333333333333, \"#9c179e\"], [0.4444444444444444, \"#bd3786\"], [0.5555555555555556, \"#d8576b\"], [0.6666666666666666, \"#ed7953\"], [0.7777777777777778, \"#fb9f3a\"], [0.8888888888888888, \"#fdca26\"], [1.0, \"#f0f921\"]], \"type\": \"histogram2d\"}], \"histogram2dcontour\": [{\"colorbar\": {\"outlinewidth\": 0, \"ticks\": \"\"}, \"colorscale\": [[0.0, \"#0d0887\"], [0.1111111111111111, \"#46039f\"], [0.2222222222222222, \"#7201a8\"], [0.3333333333333333, \"#9c179e\"], [0.4444444444444444, \"#bd3786\"], [0.5555555555555556, \"#d8576b\"], [0.6666666666666666, \"#ed7953\"], [0.7777777777777778, \"#fb9f3a\"], [0.8888888888888888, \"#fdca26\"], [1.0, \"#f0f921\"]], \"type\": \"histogram2dcontour\"}], \"mesh3d\": [{\"colorbar\": {\"outlinewidth\": 0, \"ticks\": \"\"}, \"type\": \"mesh3d\"}], \"parcoords\": [{\"line\": {\"colorbar\": {\"outlinewidth\": 0, \"ticks\": \"\"}}, \"type\": \"parcoords\"}], \"pie\": [{\"automargin\": true, \"type\": \"pie\"}], \"scatter\": [{\"marker\": {\"colorbar\": {\"outlinewidth\": 0, \"ticks\": \"\"}}, \"type\": \"scatter\"}], \"scatter3d\": [{\"line\": {\"colorbar\": {\"outlinewidth\": 0, \"ticks\": \"\"}}, \"marker\": {\"colorbar\": {\"outlinewidth\": 0, \"ticks\": \"\"}}, \"type\": \"scatter3d\"}], \"scattercarpet\": [{\"marker\": {\"colorbar\": {\"outlinewidth\": 0, \"ticks\": \"\"}}, \"type\": \"scattercarpet\"}], \"scattergeo\": [{\"marker\": {\"colorbar\": {\"outlinewidth\": 0, \"ticks\": \"\"}}, \"type\": \"scattergeo\"}], \"scattergl\": [{\"marker\": {\"colorbar\": {\"outlinewidth\": 0, \"ticks\": \"\"}}, \"type\": \"scattergl\"}], \"scattermapbox\": [{\"marker\": {\"colorbar\": {\"outlinewidth\": 0, \"ticks\": \"\"}}, \"type\": \"scattermapbox\"}], \"scatterpolar\": [{\"marker\": {\"colorbar\": {\"outlinewidth\": 0, \"ticks\": \"\"}}, \"type\": \"scatterpolar\"}], \"scatterpolargl\": [{\"marker\": {\"colorbar\": {\"outlinewidth\": 0, \"ticks\": \"\"}}, \"type\": \"scatterpolargl\"}], \"scatterternary\": [{\"marker\": {\"colorbar\": {\"outlinewidth\": 0, \"ticks\": \"\"}}, \"type\": \"scatterternary\"}], \"surface\": [{\"colorbar\": {\"outlinewidth\": 0, \"ticks\": \"\"}, \"colorscale\": [[0.0, \"#0d0887\"], [0.1111111111111111, \"#46039f\"], [0.2222222222222222, \"#7201a8\"], [0.3333333333333333, \"#9c179e\"], [0.4444444444444444, \"#bd3786\"], [0.5555555555555556, \"#d8576b\"], [0.6666666666666666, \"#ed7953\"], [0.7777777777777778, \"#fb9f3a\"], [0.8888888888888888, \"#fdca26\"], [1.0, \"#f0f921\"]], \"type\": \"surface\"}], \"table\": [{\"cells\": {\"fill\": {\"color\": \"#EBF0F8\"}, \"line\": {\"color\": \"white\"}}, \"header\": {\"fill\": {\"color\": \"#C8D4E3\"}, \"line\": {\"color\": \"white\"}}, \"type\": \"table\"}]}, \"layout\": {\"annotationdefaults\": {\"arrowcolor\": \"#2a3f5f\", \"arrowhead\": 0, \"arrowwidth\": 1}, \"coloraxis\": {\"colorbar\": {\"outlinewidth\": 0, \"ticks\": \"\"}}, \"colorscale\": {\"diverging\": [[0, \"#8e0152\"], [0.1, \"#c51b7d\"], [0.2, \"#de77ae\"], [0.3, \"#f1b6da\"], [0.4, \"#fde0ef\"], [0.5, \"#f7f7f7\"], [0.6, \"#e6f5d0\"], [0.7, \"#b8e186\"], [0.8, \"#7fbc41\"], [0.9, \"#4d9221\"], [1, \"#276419\"]], \"sequential\": [[0.0, \"#0d0887\"], [0.1111111111111111, \"#46039f\"], [0.2222222222222222, \"#7201a8\"], [0.3333333333333333, \"#9c179e\"], [0.4444444444444444, \"#bd3786\"], [0.5555555555555556, \"#d8576b\"], [0.6666666666666666, \"#ed7953\"], [0.7777777777777778, \"#fb9f3a\"], [0.8888888888888888, \"#fdca26\"], [1.0, \"#f0f921\"]], \"sequentialminus\": [[0.0, \"#0d0887\"], [0.1111111111111111, \"#46039f\"], [0.2222222222222222, \"#7201a8\"], [0.3333333333333333, \"#9c179e\"], [0.4444444444444444, \"#bd3786\"], [0.5555555555555556, \"#d8576b\"], [0.6666666666666666, \"#ed7953\"], [0.7777777777777778, \"#fb9f3a\"], [0.8888888888888888, \"#fdca26\"], [1.0, \"#f0f921\"]]}, \"colorway\": [\"#636efa\", \"#EF553B\", \"#00cc96\", \"#ab63fa\", \"#FFA15A\", \"#19d3f3\", \"#FF6692\", \"#B6E880\", \"#FF97FF\", \"#FECB52\"], \"font\": {\"color\": \"#2a3f5f\"}, \"geo\": {\"bgcolor\": \"white\", \"lakecolor\": \"white\", \"landcolor\": \"#E5ECF6\", \"showlakes\": true, \"showland\": true, \"subunitcolor\": \"white\"}, \"hoverlabel\": {\"align\": \"left\"}, \"hovermode\": \"closest\", \"mapbox\": {\"style\": \"light\"}, \"paper_bgcolor\": \"white\", \"plot_bgcolor\": \"#E5ECF6\", \"polar\": {\"angularaxis\": {\"gridcolor\": \"white\", \"linecolor\": \"white\", \"ticks\": \"\"}, \"bgcolor\": \"#E5ECF6\", \"radialaxis\": {\"gridcolor\": \"white\", \"linecolor\": \"white\", \"ticks\": \"\"}}, \"scene\": {\"xaxis\": {\"backgroundcolor\": \"#E5ECF6\", \"gridcolor\": \"white\", \"gridwidth\": 2, \"linecolor\": \"white\", \"showbackground\": true, \"ticks\": \"\", \"zerolinecolor\": \"white\"}, \"yaxis\": {\"backgroundcolor\": \"#E5ECF6\", \"gridcolor\": \"white\", \"gridwidth\": 2, \"linecolor\": \"white\", \"showbackground\": true, \"ticks\": \"\", \"zerolinecolor\": \"white\"}, \"zaxis\": {\"backgroundcolor\": \"#E5ECF6\", \"gridcolor\": \"white\", \"gridwidth\": 2, \"linecolor\": \"white\", \"showbackground\": true, \"ticks\": \"\", \"zerolinecolor\": \"white\"}}, \"shapedefaults\": {\"line\": {\"color\": \"#2a3f5f\"}}, \"ternary\": {\"aaxis\": {\"gridcolor\": \"white\", \"linecolor\": \"white\", \"ticks\": \"\"}, \"baxis\": {\"gridcolor\": \"white\", \"linecolor\": \"white\", \"ticks\": \"\"}, \"bgcolor\": \"#E5ECF6\", \"caxis\": {\"gridcolor\": \"white\", \"linecolor\": \"white\", \"ticks\": \"\"}}, \"title\": {\"x\": 0.05}, \"xaxis\": {\"automargin\": true, \"gridcolor\": \"white\", \"linecolor\": \"white\", \"ticks\": \"\", \"title\": {\"standoff\": 15}, \"zerolinecolor\": \"white\", \"zerolinewidth\": 2}, \"yaxis\": {\"automargin\": true, \"gridcolor\": \"white\", \"linecolor\": \"white\", \"ticks\": \"\", \"title\": {\"standoff\": 15}, \"zerolinecolor\": \"white\", \"zerolinewidth\": 2}}}, \"title\": {\"text\": \"Track and Controller Usage\"}, \"xaxis\": {\"title\": {\"text\": \"Track\"}}, \"yaxis\": {\"title\": {\"text\": \"Usage %\"}}},                        {\"responsive\": true}                    ).then(function(){\n",
       "                            \n",
       "var gd = document.getElementById('6a090e83-100f-4a71-bc5e-92117a539d4f');\n",
       "var x = new MutationObserver(function (mutations, observer) {{\n",
       "        var display = window.getComputedStyle(gd).display;\n",
       "        if (!display || display === 'none') {{\n",
       "            console.log([gd, 'removed!']);\n",
       "            Plotly.purge(gd);\n",
       "            observer.disconnect();\n",
       "        }}\n",
       "}});\n",
       "\n",
       "// Listen for the removal of the full notebook cells\n",
       "var notebookContainer = gd.closest('#notebook-container');\n",
       "if (notebookContainer) {{\n",
       "    x.observe(notebookContainer, {childList: true});\n",
       "}}\n",
       "\n",
       "// Listen for the clearing of the current output cell\n",
       "var outputEl = gd.closest('.output');\n",
       "if (outputEl) {{\n",
       "    x.observe(outputEl, {childList: true});\n",
       "}}\n",
       "\n",
       "                        })                };                });            </script>        </div>"
      ]
     },
     "metadata": {},
     "output_type": "display_data"
    }
   ],
   "source": [
    "bar_plot = results.groupby('track').median().reset_index()\n",
    "fig2 = go.Figure(\n",
    "    data=[\n",
    "        go.Bar(\n",
    "            name=\"Safety Controller\",\n",
    "            x=bar_plot[\"track\"],\n",
    "            y=bar_plot[\"Safety Controller (%)\"],\n",
    "            offsetgroup=0,\n",
    "        ),\n",
    "        go.Bar(\n",
    "            name=\"LEC\",\n",
    "            x=bar_plot[\"track\"],\n",
    "            y=bar_plot[\"LEC Usage (%)\"],\n",
    "            offsetgroup=1,\n",
    "        ),\n",
    "    ],\n",
    "    layout=go.Layout(\n",
    "        title=\"Track and Controller Usage\",\n",
    "        yaxis_title=\"Usage %\",\n",
    "        xaxis_title=\"Track\",\n",
    "        barmode='relative'\n",
    "    )\n",
    ")\n",
    "\n",
    "fig2.show()\n"
   ]
  }
 ],
 "metadata": {
  "kernelspec": {
   "display_name": "Python 3",
   "language": "python",
   "name": "python3"
  },
  "language_info": {
   "codemirror_mode": {
    "name": "ipython",
    "version": 3
   },
   "file_extension": ".py",
   "mimetype": "text/x-python",
   "name": "python",
   "nbconvert_exporter": "python",
   "pygments_lexer": "ipython3",
   "version": "3.7.3"
  }
 },
 "nbformat": 4,
 "nbformat_minor": 2
}
