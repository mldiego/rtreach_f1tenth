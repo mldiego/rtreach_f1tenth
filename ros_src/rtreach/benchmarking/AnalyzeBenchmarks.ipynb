{
 "cells": [
  {
   "cell_type": "code",
   "execution_count": 6,
   "metadata": {},
   "outputs": [],
   "source": [
    "import pandas as pd\n",
    "import numpy as np "
   ]
  },
  {
   "cell_type": "markdown",
   "metadata": {},
   "source": [
    "# Analysis of Benchmark Data "
   ]
  },
  {
   "cell_type": "markdown",
   "metadata": {},
   "source": [
    "The benchmarking experiments were run on three different machines. A Dell XPS-15, DellPrecision 7520, NVIDIA Jetson TX2 4GB. The metrics reported in the paper come from those experiments."
   ]
  },
  {
   "cell_type": "markdown",
   "metadata": {},
   "source": [
    "## Load the Benchmark Files"
   ]
  },
  {
   "cell_type": "code",
   "execution_count": 5,
   "metadata": {},
   "outputs": [],
   "source": [
    "e2efile = 'e2ebenchmark1.csv'\n",
    "e2efile2 = 'e2ebenchmark2.csv'\n",
    "e2efile3 = 'e2ebenchmark3.csv'\n",
    "rlfile = 'rl_benchmark1.csv'\n",
    "rlfile2 = 'rl_benchmark2.csv'\n",
    "rlfile3 = 'rl_benchmark3.csv'\n",
    "e2e_data = pd.read_csv(e2efile,header=0)\n",
    "e2e_data2 = pd.read_csv(e2efile2,header=0)\n",
    "e2e_data3 = pd.read_csv(e2efile3,header=0)\n",
    "rl_data = pd.read_csv(rlfile,header=0)\n",
    "rl_data2 = pd.read_csv(rlfile2,header=0)\n",
    "rl_data3 = pd.read_csv(rlfile3,header=0)"
   ]
  },
  {
   "cell_type": "markdown",
   "metadata": {},
   "source": [
    "### RL Experiments  Dell XPS 15, Experiment 1"
   ]
  },
  {
   "cell_type": "code",
   "execution_count": 6,
   "metadata": {},
   "outputs": [
    {
     "name": "stdout",
     "output_type": "stream",
     "text": [
      "Reinforcement Learning Controller Results:\n",
      "\n",
      "wcet    0.062651\n",
      "mean_reach_time    0.034038\n"
     ]
    }
   ],
   "source": [
    "rl_mean_wcet = rl_data[['wcet']].mean()\n",
    "rl_mean_reach_time = rl_data[['mean_reach_time']].mean()\n",
    "print(\"Reinforcement Learning Controller Results:\\n\")\n",
    "print(rl_mean_wcet.to_string())\n",
    "print(rl_mean_reach_time.to_string()) "
   ]
  },
  {
   "cell_type": "markdown",
   "metadata": {},
   "source": [
    "### RL Experiments Dell XPS 15, Experiment 2"
   ]
  },
  {
   "cell_type": "code",
   "execution_count": 7,
   "metadata": {},
   "outputs": [
    {
     "name": "stdout",
     "output_type": "stream",
     "text": [
      "Reinforcement Learning Controller Results:\n",
      "\n",
      "wcet    0.054848\n",
      "mean_reach_time    0.038884\n"
     ]
    }
   ],
   "source": [
    "rl_mean_wcet = rl_data3[['wcet']].mean()\n",
    "rl_mean_reach_time = rl_data3[['mean_reach_time']].mean()\n",
    "print(\"Reinforcement Learning Controller Results:\\n\")\n",
    "print(rl_mean_wcet.to_string())\n",
    "print(rl_mean_reach_time.to_string()) "
   ]
  },
  {
   "cell_type": "markdown",
   "metadata": {},
   "source": [
    "### End-to-End Experiments  Dell XPS 15, Experiment 1"
   ]
  },
  {
   "cell_type": "code",
   "execution_count": 8,
   "metadata": {},
   "outputs": [
    {
     "name": "stdout",
     "output_type": "stream",
     "text": [
      "End-to-End Controller Results:\n",
      "\n",
      "wcet    0.060406\n",
      "mean_reach_time    0.03257\n"
     ]
    }
   ],
   "source": [
    "mean_wcet = e2e_data[['wcet']].mean()\n",
    "mean_reach_time = e2e_data[['mean_reach_time']].mean()\n",
    "print(\"End-to-End Controller Results:\\n\")\n",
    "print(mean_wcet.to_string())\n",
    "print(mean_reach_time.to_string()) "
   ]
  },
  {
   "cell_type": "markdown",
   "metadata": {},
   "source": [
    "### End-to-End Experiments  Dell XPS 15, Experiment 2"
   ]
  },
  {
   "cell_type": "code",
   "execution_count": 15,
   "metadata": {},
   "outputs": [
    {
     "name": "stdout",
     "output_type": "stream",
     "text": [
      "End-to-End Controller Results:\n",
      "\n",
      "wcet    0.046045\n",
      "mean_reach_time    0.020818\n"
     ]
    }
   ],
   "source": [
    "mean_wcet = e2e_data3[['wcet']].mean()\n",
    "mean_reach_time = e2e_data3[['mean_reach_time']].mean()\n",
    "print(\"End-to-End Controller Results:\\n\")\n",
    "print(mean_wcet.to_string())\n",
    "print(mean_reach_time.to_string()) "
   ]
  },
  {
   "cell_type": "markdown",
   "metadata": {},
   "source": [
    "### RL Experiments Dell Precision 7520"
   ]
  },
  {
   "cell_type": "code",
   "execution_count": 16,
   "metadata": {},
   "outputs": [
    {
     "name": "stdout",
     "output_type": "stream",
     "text": [
      "Reinforcement Learning Controller Results:\n",
      "\n",
      "wcet    0.049819\n",
      "mean_reach_time    0.030486\n"
     ]
    }
   ],
   "source": [
    "rl_mean_wcet = rl_data2[['wcet']].mean()\n",
    "rl_mean_reach_time = rl_data2[['mean_reach_time']].mean()\n",
    "print(\"Reinforcement Learning Controller Results:\\n\")\n",
    "print(rl_mean_wcet.to_string())\n",
    "print(rl_mean_reach_time.to_string()) "
   ]
  },
  {
   "cell_type": "markdown",
   "metadata": {},
   "source": [
    "### End-to-End Experiments  Dell Precision 7520"
   ]
  },
  {
   "cell_type": "code",
   "execution_count": 17,
   "metadata": {},
   "outputs": [
    {
     "name": "stdout",
     "output_type": "stream",
     "text": [
      "End-to-End Controller Results:\n",
      "\n",
      "wcet    0.048201\n",
      "mean_reach_time    0.027855\n"
     ]
    }
   ],
   "source": [
    "mean_wcet = e2e_data2[['wcet']].mean()\n",
    "mean_reach_time = e2e_data2[['mean_reach_time']].mean()\n",
    "print(\"End-to-End Controller Results:\\n\")\n",
    "print(mean_wcet.to_string())\n",
    "print(mean_reach_time.to_string()) "
   ]
  },
  {
   "cell_type": "markdown",
   "metadata": {},
   "source": [
    "## Analysis of Controller Usage"
   ]
  },
  {
   "cell_type": "markdown",
   "metadata": {},
   "source": [
    "### Dell XPS 15,  Experiment 1"
   ]
  },
  {
   "cell_type": "code",
   "execution_count": 18,
   "metadata": {},
   "outputs": [
    {
     "name": "stdout",
     "output_type": "stream",
     "text": [
      "RL Controller Usage Results:\n",
      "\n",
      "RL Controller Usage: 0.2993462811001659\n",
      "Safety Controller Usage: 0.7006537188998341\n",
      "Mean Experiment Times: 32.66922197959184\n"
     ]
    }
   ],
   "source": [
    "sum_times = rl_data['time_taken_lec']+rl_data['time_taken_safety_controller']\n",
    "lec_percentage = rl_data['time_taken_lec']/sum_times\n",
    "safety_controller_percentage = rl_data['time_taken_safety_controller']/sum_times\n",
    "\n",
    "mean_experiment_time = sum_times.mean()\n",
    "mean_lec_percentage =  lec_percentage.mean()\n",
    "mean_safety_controller_percentage = safety_controller_percentage.mean()\n",
    "\n",
    "print(\"RL Controller Usage Results:\\n\")\n",
    "print(\"RL Controller Usage: \"+str(mean_lec_percentage))\n",
    "print(\"Safety Controller Usage: \"+str(mean_safety_controller_percentage))\n",
    "print(\"Mean Experiment Times: \"+str(mean_experiment_time))"
   ]
  },
  {
   "cell_type": "code",
   "execution_count": 19,
   "metadata": {},
   "outputs": [
    {
     "name": "stdout",
     "output_type": "stream",
     "text": [
      "End-to-End Controller Usage Results:\n",
      "\n",
      "End-to-End Usage: 0.13942108647883245\n",
      "Safety Controller Usage: 0.8605789135211677\n",
      "Mean Experiment Times: 21.581382639999998\n"
     ]
    }
   ],
   "source": [
    "sum_times = e2e_data['time_taken_lec']+e2e_data['time_taken_safety_controller']\n",
    "lec_percentage = e2e_data['time_taken_lec']/sum_times\n",
    "safety_controller_percentage = e2e_data['time_taken_safety_controller']/sum_times\n",
    "\n",
    "mean_experiment_time = sum_times.mean()\n",
    "mean_lec_percentage =  lec_percentage.mean()\n",
    "mean_safety_controller_percentage = safety_controller_percentage.mean()\n",
    "\n",
    "print(\"End-to-End Controller Usage Results:\\n\")\n",
    "print(\"End-to-End Usage: \"+str(mean_lec_percentage))\n",
    "print(\"Safety Controller Usage: \"+str(mean_safety_controller_percentage))\n",
    "print(\"Mean Experiment Times: \"+str(mean_experiment_time))"
   ]
  },
  {
   "cell_type": "markdown",
   "metadata": {},
   "source": [
    "### Dell XPS 15, Experiment 2"
   ]
  },
  {
   "cell_type": "code",
   "execution_count": 20,
   "metadata": {},
   "outputs": [
    {
     "name": "stdout",
     "output_type": "stream",
     "text": [
      "RL Controller Usage Results:\n",
      "\n",
      "RL Controller Usage: 0.38511359065652273\n",
      "Safety Controller Usage: 0.6148864093434774\n",
      "Mean Experiment Times: 30.47285444736842\n"
     ]
    }
   ],
   "source": [
    "sum_times = rl_data3['time_taken_lec']+rl_data3['time_taken_safety_controller']\n",
    "lec_percentage = rl_data3['time_taken_lec']/sum_times\n",
    "safety_controller_percentage = rl_data3['time_taken_safety_controller']/sum_times\n",
    "\n",
    "mean_experiment_time = sum_times.mean()\n",
    "mean_lec_percentage =  lec_percentage.mean()\n",
    "mean_safety_controller_percentage = safety_controller_percentage.mean()\n",
    "\n",
    "print(\"RL Controller Usage Results:\\n\")\n",
    "print(\"RL Controller Usage: \"+str(mean_lec_percentage))\n",
    "print(\"Safety Controller Usage: \"+str(mean_safety_controller_percentage))\n",
    "print(\"Mean Experiment Times: \"+str(mean_experiment_time))"
   ]
  },
  {
   "cell_type": "code",
   "execution_count": 21,
   "metadata": {},
   "outputs": [
    {
     "name": "stdout",
     "output_type": "stream",
     "text": [
      "End-to-End Controller Usage Results:\n",
      "\n",
      "End-to-End Usage: 0.1491344094008309\n",
      "Safety Controller Usage: 0.8508655905991689\n",
      "Mean Experiment Times: 13.012712770114941\n"
     ]
    }
   ],
   "source": [
    "sum_times = e2e_data3['time_taken_lec']+e2e_data3['time_taken_safety_controller']\n",
    "lec_percentage = e2e_data3['time_taken_lec']/sum_times\n",
    "safety_controller_percentage = e2e_data3['time_taken_safety_controller']/sum_times\n",
    "\n",
    "mean_experiment_time = sum_times.mean()\n",
    "mean_lec_percentage =  lec_percentage.mean()\n",
    "mean_safety_controller_percentage = safety_controller_percentage.mean()\n",
    "\n",
    "print(\"End-to-End Controller Usage Results:\\n\")\n",
    "print(\"End-to-End Usage: \"+str(mean_lec_percentage))\n",
    "print(\"Safety Controller Usage: \"+str(mean_safety_controller_percentage))\n",
    "print(\"Mean Experiment Times: \"+str(mean_experiment_time))"
   ]
  },
  {
   "cell_type": "markdown",
   "metadata": {},
   "source": [
    "### Dell Precision 7520"
   ]
  },
  {
   "cell_type": "code",
   "execution_count": 11,
   "metadata": {},
   "outputs": [
    {
     "name": "stdout",
     "output_type": "stream",
     "text": [
      "RL Controller Usage Results:\n",
      "\n",
      "RL Controller Usage: 0.4554748328251177\n",
      "Safety Controller Usage: 0.5445251671748823\n",
      "Mean Experiment Times: 24.806917183333333\n"
     ]
    }
   ],
   "source": [
    "sum_times = rl_data2['time_taken_lec']+rl_data2['time_taken_safety_controller']\n",
    "lec_percentage = rl_data2['time_taken_lec']/sum_times\n",
    "safety_controller_percentage = rl_data2['time_taken_safety_controller']/sum_times\n",
    "\n",
    "mean_experiment_time = sum_times.mean()\n",
    "mean_lec_percentage =  lec_percentage.mean()\n",
    "mean_safety_controller_percentage = safety_controller_percentage.mean()\n",
    "\n",
    "print(\"RL Controller Usage Results:\\n\")\n",
    "print(\"RL Controller Usage: \"+str(mean_lec_percentage))\n",
    "print(\"Safety Controller Usage: \"+str(mean_safety_controller_percentage))\n",
    "print(\"Mean Experiment Times: \"+str(mean_experiment_time))"
   ]
  },
  {
   "cell_type": "code",
   "execution_count": 11,
   "metadata": {},
   "outputs": [
    {
     "name": "stdout",
     "output_type": "stream",
     "text": [
      "End-to-End Controller Usage Results:\n",
      "\n",
      "End-to-End Usage: 0.0780398648112\n",
      "Safety Controller Usage: 0.921960135189\n",
      "Mean Experiment Times: 13.0246171406\n"
     ]
    }
   ],
   "source": [
    "sum_times = e2e_data2['time_taken_lec']+e2e_data2['time_taken_safety_controller']\n",
    "lec_percentage = e2e_data2['time_taken_lec']/sum_times\n",
    "safety_controller_percentage = e2e_data2['time_taken_safety_controller']/sum_times\n",
    "\n",
    "mean_lec_percentage =  lec_percentage.mean()\n",
    "mean_safety_controller_percentage = safety_controller_percentage.mean()\n",
    "mean_experiment_time = sum_times.mean()\n",
    "\n",
    "print(\"End-to-End Controller Usage Results:\\n\")\n",
    "print(\"End-to-End Usage: \"+str(mean_lec_percentage))\n",
    "print(\"Safety Controller Usage: \"+str(mean_safety_controller_percentage))\n",
    "print(\"Mean Experiment Times: \"+str(mean_experiment_time))"
   ]
  },
  {
   "cell_type": "markdown",
   "metadata": {},
   "source": [
    "# Hardware Experiments"
   ]
  },
  {
   "cell_type": "code",
   "execution_count": 25,
   "metadata": {},
   "outputs": [],
   "source": [
    "e2efile = 'e2e_hardware.csv'\n",
    "rlfile = 'rl_hardware_becnhmark.csv'\n",
    "e2e_data = pd.read_csv(e2efile,header=0)\n",
    "rl_data = pd.read_csv(rlfile,header=0)"
   ]
  },
  {
   "cell_type": "code",
   "execution_count": 26,
   "metadata": {},
   "outputs": [
    {
     "name": "stdout",
     "output_type": "stream",
     "text": [
      "Reinforcement Learning Controller Results:\n",
      "\n",
      "wcet    0.040796\n",
      "mean_reach_time    0.010612\n"
     ]
    }
   ],
   "source": [
    "rl_mean_wcet = rl_data[['wcet']].mean()\n",
    "rl_mean_reach_time = rl_data[['mean_reach_time']].mean()\n",
    "print(\"Reinforcement Learning Controller Results:\\n\")\n",
    "print(rl_mean_wcet.to_string())\n",
    "print(rl_mean_reach_time.to_string()) "
   ]
  },
  {
   "cell_type": "code",
   "execution_count": 27,
   "metadata": {},
   "outputs": [
    {
     "name": "stdout",
     "output_type": "stream",
     "text": [
      "End-to-End Controller Results:\n",
      "\n",
      "wcet    0.042565\n",
      "mean_reach_time    0.011325\n"
     ]
    }
   ],
   "source": [
    "mean_wcet = e2e_data[['wcet']].mean()\n",
    "mean_reach_time = e2e_data[['mean_reach_time']].mean()\n",
    "print(\"End-to-End Controller Results:\\n\")\n",
    "print(mean_wcet.to_string())\n",
    "print(mean_reach_time.to_string()) "
   ]
  },
  {
   "cell_type": "code",
   "execution_count": 28,
   "metadata": {},
   "outputs": [
    {
     "name": "stdout",
     "output_type": "stream",
     "text": [
      "RL Controller Usage Results:\n",
      "\n",
      "RL Controller Usage: 0.05301994402696175\n",
      "Safety Controller Usage: 0.9469800559730382\n",
      "Mean Experiment Times: 5.0297856060606065\n"
     ]
    }
   ],
   "source": [
    "sum_times = rl_data['time_taken_lec']+rl_data['time_taken_safety_controller']\n",
    "lec_percentage = rl_data['time_taken_lec']/sum_times\n",
    "safety_controller_percentage = rl_data['time_taken_safety_controller']/sum_times\n",
    "\n",
    "mean_experiment_time = sum_times.mean()\n",
    "mean_lec_percentage =  lec_percentage.mean()\n",
    "mean_safety_controller_percentage = safety_controller_percentage.mean()\n",
    "\n",
    "print(\"RL Controller Usage Results:\\n\")\n",
    "print(\"RL Controller Usage: \"+str(mean_lec_percentage))\n",
    "print(\"Safety Controller Usage: \"+str(mean_safety_controller_percentage))\n",
    "print(\"Mean Experiment Times: \"+str(mean_experiment_time))"
   ]
  },
  {
   "cell_type": "code",
   "execution_count": 29,
   "metadata": {},
   "outputs": [
    {
     "name": "stdout",
     "output_type": "stream",
     "text": [
      "End-to-End Controller Usage Results:\n",
      "\n",
      "End-to-End Usage: 0.039735732094333655\n",
      "Safety Controller Usage: 0.9602642679056664\n",
      "Mean Experiment Times: 5.321934583333333\n"
     ]
    }
   ],
   "source": [
    "sum_times = e2e_data['time_taken_lec']+e2e_data['time_taken_safety_controller']\n",
    "lec_percentage = e2e_data['time_taken_lec']/sum_times\n",
    "safety_controller_percentage = e2e_data['time_taken_safety_controller']/sum_times\n",
    "\n",
    "mean_experiment_time = sum_times.mean()\n",
    "mean_lec_percentage =  lec_percentage.mean()\n",
    "mean_safety_controller_percentage = safety_controller_percentage.mean()\n",
    "\n",
    "print(\"End-to-End Controller Usage Results:\\n\")\n",
    "print(\"End-to-End Usage: \"+str(mean_lec_percentage))\n",
    "print(\"Safety Controller Usage: \"+str(mean_safety_controller_percentage))\n",
    "print(\"Mean Experiment Times: \"+str(mean_experiment_time))"
   ]
  },
  {
   "cell_type": "markdown",
   "metadata": {},
   "source": [
    "# Experiments Without Obstacles"
   ]
  },
  {
   "cell_type": "markdown",
   "metadata": {},
   "source": [
    "### Reinforcement Learning "
   ]
  },
  {
   "cell_type": "code",
   "execution_count": 12,
   "metadata": {},
   "outputs": [
    {
     "name": "stdout",
     "output_type": "stream",
     "text": [
      "Reinforcement Learning Controller Results:\n",
      "\n",
      "wcet    0.047873\n",
      "mean_reach_time    0.030986\n"
     ]
    }
   ],
   "source": [
    "rlfile = 'rl_no_obs_benchmark.csv'\n",
    "rl_data = pd.read_csv(rlfile,header=0)\n",
    "rl_mean_wcet = rl_data[['wcet']].mean()\n",
    "rl_mean_reach_time = rl_data[['mean_reach_time']].mean()\n",
    "print(\"Reinforcement Learning Controller Results:\\n\")\n",
    "print(rl_mean_wcet.to_string())\n",
    "print(rl_mean_reach_time.to_string()) "
   ]
  },
  {
   "cell_type": "code",
   "execution_count": 13,
   "metadata": {},
   "outputs": [
    {
     "name": "stdout",
     "output_type": "stream",
     "text": [
      "RL Controller Usage Results:\n",
      "\n",
      "RL Controller Usage: 0.618261444188\n",
      "Safety Controller Usage: 0.381738555812\n",
      "Mean Experiment Times: 20.9284222308\n"
     ]
    }
   ],
   "source": [
    "sum_times = rl_data['time_taken_lec']+rl_data['time_taken_safety_controller']\n",
    "lec_percentage = rl_data['time_taken_lec']/sum_times\n",
    "safety_controller_percentage = rl_data['time_taken_safety_controller']/sum_times\n",
    "\n",
    "mean_experiment_time = sum_times.mean()\n",
    "mean_lec_percentage =  lec_percentage.mean()\n",
    "mean_safety_controller_percentage = safety_controller_percentage.mean()\n",
    "\n",
    "print(\"RL Controller Usage Results:\\n\")\n",
    "print(\"RL Controller Usage: \"+str(mean_lec_percentage))\n",
    "print(\"Safety Controller Usage: \"+str(mean_safety_controller_percentage))\n",
    "print(\"Mean Experiment Times: \"+str(mean_experiment_time))"
   ]
  },
  {
   "cell_type": "markdown",
   "metadata": {},
   "source": [
    "### End-to-End Learning"
   ]
  },
  {
   "cell_type": "code",
   "execution_count": 7,
   "metadata": {},
   "outputs": [],
   "source": [
    "e2efile = 'e2e_no_obstacles.csv'\n",
    "e2e_data = pd.read_csv(e2efile,header=0)"
   ]
  },
  {
   "cell_type": "code",
   "execution_count": 8,
   "metadata": {},
   "outputs": [
    {
     "name": "stdout",
     "output_type": "stream",
     "text": [
      "End-to-End Controller Results:\n",
      "\n",
      "wcet    0.041915\n",
      "mean_reach_time    0.01928\n"
     ]
    }
   ],
   "source": [
    "mean_wcet = e2e_data[['wcet']].mean()\n",
    "mean_reach_time = e2e_data[['mean_reach_time']].mean()\n",
    "print(\"End-to-End Controller Results:\\n\")\n",
    "print(mean_wcet.to_string())\n",
    "print(mean_reach_time.to_string()) "
   ]
  },
  {
   "cell_type": "code",
   "execution_count": 9,
   "metadata": {},
   "outputs": [
    {
     "name": "stdout",
     "output_type": "stream",
     "text": [
      "End-to-End Controller Usage Results:\n",
      "\n",
      "End-to-End Usage: 0.05842616925837587\n",
      "Safety Controller Usage: 0.9415738307416242\n",
      "Mean Experiment Times: 13.348619140350879\n"
     ]
    }
   ],
   "source": [
    "sum_times = e2e_data['time_taken_lec']+e2e_data['time_taken_safety_controller']\n",
    "lec_percentage = e2e_data['time_taken_lec']/sum_times\n",
    "safety_controller_percentage = e2e_data['time_taken_safety_controller']/sum_times\n",
    "\n",
    "mean_experiment_time = sum_times.mean()\n",
    "mean_lec_percentage =  lec_percentage.mean()\n",
    "mean_safety_controller_percentage = safety_controller_percentage.mean()\n",
    "\n",
    "print(\"End-to-End Controller Usage Results:\\n\")\n",
    "print(\"End-to-End Usage: \"+str(mean_lec_percentage))\n",
    "print(\"Safety Controller Usage: \"+str(mean_safety_controller_percentage))\n",
    "print(\"Mean Experiment Times: \"+str(mean_experiment_time))"
   ]
  },
  {
   "cell_type": "code",
   "execution_count": null,
   "metadata": {},
   "outputs": [],
   "source": []
  }
 ],
 "metadata": {
  "kernelspec": {
   "display_name": "Python 2",
   "language": "python",
   "name": "python2"
  },
  "language_info": {
   "codemirror_mode": {
    "name": "ipython",
    "version": 2
   },
   "file_extension": ".py",
   "mimetype": "text/x-python",
   "name": "python",
   "nbconvert_exporter": "python",
   "pygments_lexer": "ipython2",
   "version": "2.7.16"
  }
 },
 "nbformat": 4,
 "nbformat_minor": 2
}
