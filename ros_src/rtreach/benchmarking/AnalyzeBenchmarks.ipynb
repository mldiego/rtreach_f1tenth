{
 "cells": [
  {
   "cell_type": "code",
   "execution_count": 1,
   "metadata": {},
   "outputs": [],
   "source": [
    "import pandas as pd\n",
    "import numpy as np \n",
    "from utils import summarize_data"
   ]
  },
  {
   "cell_type": "markdown",
   "metadata": {},
   "source": [
    "# Analysis of Benchmark Data "
   ]
  },
  {
   "cell_type": "markdown",
   "metadata": {},
   "source": [
    "The benchmarking experiments were run on three different machines. A Dell XPS-15, DellPrecision 7520, NVIDIA Jetson TX2 4GB. The metrics reported in the paper come from those experiments."
   ]
  },
  {
   "cell_type": "markdown",
   "metadata": {},
   "source": [
    "## Load the Benchmark Files"
   ]
  },
  {
   "cell_type": "code",
   "execution_count": 2,
   "metadata": {},
   "outputs": [],
   "source": [
    "e2e_data = pd.read_csv('e2ebenchmark1.csv',header=0)\n",
    "e2e_data2 = pd.read_csv('e2ebenchmark2.csv',header=0)\n",
    "e2e_data3 = pd.read_csv('e2ebenchmark3.csv',header=0)\n",
    "rl_data = pd.read_csv('rl_benchmark1.csv',header=0)\n",
    "rl_data2 = pd.read_csv('rl_benchmark2.csv',header=0)\n",
    "rl_data3 = pd.read_csv('rl_benchmark3.csv',header=0)"
   ]
  },
  {
   "cell_type": "markdown",
   "metadata": {},
   "source": [
    "### RL Experiments  Dell XPS 15, Experiment 1"
   ]
  },
  {
   "cell_type": "code",
   "execution_count": 4,
   "metadata": {},
   "outputs": [
    {
     "name": "stdout",
     "output_type": "stream",
     "text": [
      "\n",
      "lec usage %: 0.2993  | safety_controller usage %: 0.7007 | moet:  0.0627 | mean_et: 0.034 \n"
     ]
    }
   ],
   "source": [
    "summarize_data(rl_data,sep_str='')"
   ]
  },
  {
   "cell_type": "markdown",
   "metadata": {},
   "source": [
    "### RL Experiments Dell XPS 15, Experiment 2"
   ]
  },
  {
   "cell_type": "code",
   "execution_count": 5,
   "metadata": {},
   "outputs": [
    {
     "name": "stdout",
     "output_type": "stream",
     "text": [
      "\n",
      "lec usage %: 0.3851  | safety_controller usage %: 0.6149 | moet:  0.0548 | mean_et: 0.0389 \n"
     ]
    }
   ],
   "source": [
    "summarize_data(rl_data3,sep_str='')"
   ]
  },
  {
   "cell_type": "markdown",
   "metadata": {},
   "source": [
    "### End-to-End Experiments  Dell XPS 15, Experiment 1"
   ]
  },
  {
   "cell_type": "code",
   "execution_count": 6,
   "metadata": {},
   "outputs": [
    {
     "name": "stdout",
     "output_type": "stream",
     "text": [
      "\n",
      "lec usage %: 0.1394  | safety_controller usage %: 0.8606 | moet:  0.0604 | mean_et: 0.0326 \n"
     ]
    }
   ],
   "source": [
    "summarize_data(e2e_data,sep_str='')"
   ]
  },
  {
   "cell_type": "markdown",
   "metadata": {},
   "source": [
    "### End-to-End Experiments  Dell XPS 15, Experiment 2"
   ]
  },
  {
   "cell_type": "code",
   "execution_count": 7,
   "metadata": {},
   "outputs": [
    {
     "name": "stdout",
     "output_type": "stream",
     "text": [
      "\n",
      "lec usage %: 0.1491  | safety_controller usage %: 0.8509 | moet:  0.046 | mean_et: 0.0208 \n"
     ]
    }
   ],
   "source": [
    "summarize_data(e2e_data3,sep_str='')"
   ]
  },
  {
   "cell_type": "markdown",
   "metadata": {},
   "source": [
    "### RL Experiments Dell Precision 7520"
   ]
  },
  {
   "cell_type": "code",
   "execution_count": 8,
   "metadata": {},
   "outputs": [
    {
     "name": "stdout",
     "output_type": "stream",
     "text": [
      "\n",
      "lec usage %: 0.4555  | safety_controller usage %: 0.5445 | moet:  0.0498 | mean_et: 0.0305 \n"
     ]
    }
   ],
   "source": [
    "summarize_data(rl_data2,sep_str='')"
   ]
  },
  {
   "cell_type": "markdown",
   "metadata": {},
   "source": [
    "### End-to-End Experiments  Dell Precision 7520"
   ]
  },
  {
   "cell_type": "code",
   "execution_count": 9,
   "metadata": {},
   "outputs": [
    {
     "name": "stdout",
     "output_type": "stream",
     "text": [
      "\n",
      "lec usage %: 0.078  | safety_controller usage %: 0.922 | moet:  0.0482 | mean_et: 0.0279 \n"
     ]
    }
   ],
   "source": [
    "summarize_data(e2e_data2,sep_str='')"
   ]
  },
  {
   "cell_type": "markdown",
   "metadata": {},
   "source": [
    "# Hardware Experiments, Jetson TX2"
   ]
  },
  {
   "cell_type": "code",
   "execution_count": 16,
   "metadata": {},
   "outputs": [],
   "source": [
    "e2e_hw = pd.read_csv('e2e_hardware.csv',header=0)\n",
    "rl_hw = pd.read_csv('rl_hardware_becnhmark.csv',header=0)"
   ]
  },
  {
   "cell_type": "markdown",
   "metadata": {},
   "source": [
    "### Reinforcement Learning Controller"
   ]
  },
  {
   "cell_type": "code",
   "execution_count": 17,
   "metadata": {},
   "outputs": [
    {
     "name": "stdout",
     "output_type": "stream",
     "text": [
      "\n",
      "lec usage %: 0.0397  | safety_controller usage %: 0.9603 | moet:  0.0426 | mean_et: 0.0113 \n"
     ]
    }
   ],
   "source": [
    "summarize_data(e2e_hw,sep_str='')"
   ]
  },
  {
   "cell_type": "markdown",
   "metadata": {},
   "source": [
    "### End-to-End Controller"
   ]
  },
  {
   "cell_type": "code",
   "execution_count": 18,
   "metadata": {},
   "outputs": [
    {
     "name": "stdout",
     "output_type": "stream",
     "text": [
      "\n",
      "lec usage %: 0.053  | safety_controller usage %: 0.947 | moet:  0.0408 | mean_et: 0.0106 \n"
     ]
    }
   ],
   "source": [
    "summarize_data(rl_hw,sep_str='')"
   ]
  },
  {
   "cell_type": "markdown",
   "metadata": {},
   "source": [
    "# Experiments Without Obstacles"
   ]
  },
  {
   "cell_type": "markdown",
   "metadata": {},
   "source": [
    "### Reinforcement Learning "
   ]
  },
  {
   "cell_type": "code",
   "execution_count": 19,
   "metadata": {},
   "outputs": [
    {
     "name": "stdout",
     "output_type": "stream",
     "text": [
      "\n",
      "lec usage %: 0.6183  | safety_controller usage %: 0.3817 | moet:  0.0479 | mean_et: 0.031 \n"
     ]
    }
   ],
   "source": [
    "rl_data = pd.read_csv('rl_no_obs_benchmark.csv',header=0)\n",
    "summarize_data(rl_data,sep_str='')"
   ]
  },
  {
   "cell_type": "markdown",
   "metadata": {},
   "source": [
    "### End-to-End Learning"
   ]
  },
  {
   "cell_type": "code",
   "execution_count": 20,
   "metadata": {},
   "outputs": [
    {
     "name": "stdout",
     "output_type": "stream",
     "text": [
      "\n",
      "lec usage %: 0.0584  | safety_controller usage %: 0.9416 | moet:  0.0419 | mean_et: 0.0193 \n"
     ]
    }
   ],
   "source": [
    "e2e_data = pd.read_csv('e2e_no_obstacles.csv',header=0)\n",
    "summarize_data(e2e_data,sep_str='')"
   ]
  },
  {
   "cell_type": "markdown",
   "metadata": {},
   "source": [
    "# Experiments With Variation in Obstacles, Speed and Walltime"
   ]
  },
  {
   "cell_type": "code",
   "execution_count": 43,
   "metadata": {},
   "outputs": [],
   "source": [
    "e0625 = pd.read_csv('e2e_no_obs_benchmark_06_25.csv',header=0)\n",
    "e1025 = pd.read_csv('e2e_no_obs_banchmark_10_25.csv',header=0)\n",
    "e1525 = pd.read_csv('e2e_no_obs_benchmark_15_25.csv',header=0)\n",
    "e0610 = pd.read_csv('e2e_no_obs_benchmark_06_10.csv',header=0)\n",
    "e1010 = pd.read_csv('e2e_no_obs_benchmark_10_10.csv',header=0)\n",
    "e1510 = pd.read_csv('e2e_no_obs_benchmark_15_10.csv',header=0)\n",
    "\n",
    "e0625_obs=pd.read_csv('e2e_obs_benchmark_06_25.csv',header=0)\n",
    "e1025_obs =pd.read_csv('e2ebenchmark2.csv',header = 0)\n",
    "e1525_obs=pd.read_csv('e2e_obs_benchmark_15_25.csv',header=0)\n",
    "e0610_obs = pd.read_csv('e2e_obs_benchmark_06_10.csv',header=0)\n",
    "e1010_obs = pd.read_csv('e2e_obs_benchmark_10_10.csv',header=0)\n",
    "e1510_obs = pd.read_csv('e2e_obs_benchmark_15_10.csv',header=0)\n",
    "\n",
    "\n",
    "r0625_obs= pd.read_csv('rl_obs_benchmark_06_25.csv',header=0)\n",
    "r1025_obs = pd.read_csv('rl_benchmark2.csv',header = 0)\n",
    "r1525_obs=pd.read_csv('rl_obs_benchmark_15_25.csv',header=0)\n",
    "r0610_obs = pd.read_csv('rl_obs_benchmark_06_10.csv',header=0)\n",
    "r1010_obs = pd.read_csv('rl_obs_benchmark_10_10.csv',header=0)\n",
    "r1510_obs = pd.read_csv('rl_obs_benchmark_15_10.csv',header=0)\n",
    "\n",
    "\n",
    "\n",
    "r0625 = pd.read_csv('rl_no_obs_benchmark_06_25.csv',header=0)\n",
    "r1025 = pd.read_csv('rl_no_obs_benchmark_10_25.csv',header=0)\n",
    "r1525 = pd.read_csv('rl_no_obs_benchmark_15_25.csv',header=0)\n",
    "r0610 = pd.read_csv('rl_no_obs_benchmark_06_10.csv',header=0)\n",
    "r1010 = pd.read_csv('rl_no_obs_benchmark_10_10.csv',header=0)\n",
    "r1510 = pd.read_csv('rl_no_obs_benchmark_15_10.csv',header=0)"
   ]
  },
  {
   "cell_type": "markdown",
   "metadata": {},
   "source": [
    "### End-to-End Experiments Without Obstacles "
   ]
  },
  {
   "cell_type": "code",
   "execution_count": 46,
   "metadata": {},
   "outputs": [
    {
     "name": "stdout",
     "output_type": "stream",
     "text": [
      "speed: 0.6ms, wall_time: 10ms\n",
      "\n",
      "lec usage %: 0.0694  | safety_controller usage %: 0.9306 | moet:  0.0219 | mean_et: 0.0125 \n",
      "============================================================================================\n",
      "speed: 1.0ms, wall_time: 10ms\n",
      "\n",
      "lec usage %: 0.0624  | safety_controller usage %: 0.9376 | moet:  0.0217 | mean_et: 0.0118 \n",
      "============================================================================================\n",
      "speed: 1.5ms, wall_time: 10ms\n",
      "\n",
      "lec usage %: 0.0522  | safety_controller usage %: 0.9478 | moet:  0.0225 | mean_et: 0.0102 \n",
      "============================================================================================\n",
      "speed: 0.6ms, wall_time: 25ms\n",
      "\n",
      "lec usage %: 0.1026  | safety_controller usage %: 0.8974 | moet:  0.0403 | mean_et: 0.0202 \n",
      "============================================================================================\n",
      "speed: 1.0ms, wall_time: 25ms\n",
      "\n",
      "lec usage %: 0.0584  | safety_controller usage %: 0.9416 | moet:  0.0419 | mean_et: 0.0193 \n",
      "============================================================================================\n",
      "speed: 1.5ms, wall_time: 25ms\n",
      "\n",
      "lec usage %: 0.0517  | safety_controller usage %: 0.9483 | moet:  0.0411 | mean_et: 0.0154 \n",
      "============================================================================================\n"
     ]
    }
   ],
   "source": [
    "print(\"speed: 0.6ms, wall_time: 10ms\")\n",
    "summarize_data(e0610)\n",
    "print(\"speed: 1.0ms, wall_time: 10ms\")\n",
    "summarize_data(e1010)\n",
    "print(\"speed: 1.5ms, wall_time: 10ms\")\n",
    "summarize_data(e1510)\n",
    "\n",
    "print(\"speed: 0.6ms, wall_time: 25ms\")\n",
    "summarize_data(e0625)\n",
    "print(\"speed: 1.0ms, wall_time: 25ms\")\n",
    "summarize_data(e1025)\n",
    "print(\"speed: 1.5ms, wall_time: 25ms\")\n",
    "summarize_data(e1525)\n",
    "\n"
   ]
  },
  {
   "cell_type": "code",
   "execution_count": 48,
   "metadata": {},
   "outputs": [
    {
     "name": "stdout",
     "output_type": "stream",
     "text": [
      "speed: 0.6ms, wall_time: 10ms\n",
      "\n",
      "lec usage %: 0.0325  | safety_controller usage %: 0.9675 | moet:  0.0223 | mean_et: 0.0124 \n",
      "============================================================================================\n",
      "speed: 1.0ms, wall_time: 10ms\n",
      "\n",
      "lec usage %: 0.0393  | safety_controller usage %: 0.9607 | moet:  0.022 | mean_et: 0.0117 \n",
      "============================================================================================\n",
      "speed: 1.5ms, wall_time: 10ms\n",
      "\n",
      "lec usage %: 0.0475  | safety_controller usage %: 0.9525 | moet:  0.0215 | mean_et: 0.0123 \n",
      "============================================================================================\n",
      "speed: 0.6ms, wall_time: 25ms\n",
      "\n",
      "lec usage %: 0.045  | safety_controller usage %: 0.955 | moet:  0.0441 | mean_et: 0.0206 \n",
      "============================================================================================\n",
      "speed: 1.0ms, wall_time: 25ms\n",
      "\n",
      "lec usage %: 0.078  | safety_controller usage %: 0.922 | moet:  0.0482 | mean_et: 0.0279 \n",
      "============================================================================================\n",
      "speed: 1.5ms, wall_time: 25ms\n",
      "\n",
      "lec usage %: 0.0451  | safety_controller usage %: 0.9549 | moet:  0.043 | mean_et: 0.0209 \n",
      "============================================================================================\n"
     ]
    }
   ],
   "source": [
    "print(\"speed: 0.6ms, wall_time: 10ms\")\n",
    "summarize_data(e0610_obs)\n",
    "print(\"speed: 1.0ms, wall_time: 10ms\")\n",
    "summarize_data(e1010_obs)\n",
    "print(\"speed: 1.5ms, wall_time: 10ms\")\n",
    "summarize_data(e1510_obs)\n",
    "\n",
    "\n",
    "print(\"speed: 0.6ms, wall_time: 25ms\")\n",
    "summarize_data(e0625_obs)\n",
    "print(\"speed: 1.0ms, wall_time: 25ms\")\n",
    "summarize_data(e1025_obs)\n",
    "print(\"speed: 1.5ms, wall_time: 25ms\")\n",
    "summarize_data(e1525_obs)"
   ]
  },
  {
   "cell_type": "code",
   "execution_count": 50,
   "metadata": {},
   "outputs": [
    {
     "name": "stdout",
     "output_type": "stream",
     "text": [
      "speed: 0.6ms, wall_time: 10ms\n",
      "\n",
      "lec usage %: 0.4483  | safety_controller usage %: 0.5517 | moet:  0.0207 | mean_et: 0.0131 \n",
      "============================================================================================\n",
      "speed: 1.0ms, wall_time: 10ms\n",
      "\n",
      "lec usage %: 0.4331  | safety_controller usage %: 0.5669 | moet:  0.0201 | mean_et: 0.0133 \n",
      "============================================================================================\n",
      "speed: 1.5ms, wall_time: 10ms\n",
      "\n",
      "lec usage %: 0.0371  | safety_controller usage %: 0.9629 | moet:  0.0211 | mean_et: 0.0126 \n",
      "============================================================================================\n",
      "speed: 0.6ms, wall_time: 25ms\n",
      "\n",
      "lec usage %: 0.4534  | safety_controller usage %: 0.5466 | moet:  0.0487 | mean_et: 0.0298 \n",
      "============================================================================================\n",
      "speed: 1.0ms, wall_time: 25ms\n",
      "\n",
      "lec usage %: 0.4555  | safety_controller usage %: 0.5445 | moet:  0.0498 | mean_et: 0.0305 \n",
      "============================================================================================\n",
      "speed: 1.5ms, wall_time: 25ms\n",
      "\n",
      "lec usage %: 0.0189  | safety_controller usage %: 0.9811 | moet:  0.0492 | mean_et: 0.0264 \n",
      "============================================================================================\n"
     ]
    }
   ],
   "source": [
    "print(\"speed: 0.6ms, wall_time: 10ms\")\n",
    "summarize_data(r0610_obs)\n",
    "print(\"speed: 1.0ms, wall_time: 10ms\")\n",
    "summarize_data(r1010_obs)\n",
    "print(\"speed: 1.5ms, wall_time: 10ms\")\n",
    "summarize_data(r1510_obs)\n",
    "\n",
    "print(\"speed: 0.6ms, wall_time: 25ms\")\n",
    "summarize_data(r0625_obs)\n",
    "print(\"speed: 1.0ms, wall_time: 25ms\")\n",
    "summarize_data(r1025_obs)\n",
    "print(\"speed: 1.5ms, wall_time: 25ms\")\n",
    "summarize_data(r1525_obs)\n",
    "\n"
   ]
  },
  {
   "cell_type": "markdown",
   "metadata": {},
   "source": [
    "### RL Experiements Without Obstacles"
   ]
  },
  {
   "cell_type": "code",
   "execution_count": 51,
   "metadata": {},
   "outputs": [
    {
     "name": "stdout",
     "output_type": "stream",
     "text": [
      "speed: 0.6ms, wall_time: 10ms\n",
      "\n",
      "lec usage %: 0.5763  | safety_controller usage %: 0.4237 | moet:  0.0198 | mean_et: 0.0135 \n",
      "============================================================================================\n",
      "speed: 1.0ms, wall_time: 10ms\n",
      "\n",
      "lec usage %: 0.6292  | safety_controller usage %: 0.3708 | moet:  0.0193 | mean_et: 0.013 \n",
      "============================================================================================\n",
      "speed: 1.5ms, wall_time: 10ms\n",
      "\n",
      "lec usage %: 0.0302  | safety_controller usage %: 0.9698 | moet:  0.0228 | mean_et: 0.0135 \n",
      "============================================================================================\n",
      "speed: 0.6ms, wall_time: 25ms\n",
      "\n",
      "lec usage %: 0.569  | safety_controller usage %: 0.431 | moet:  0.0493 | mean_et: 0.0298 \n",
      "============================================================================================\n",
      "speed: 1.0ms, wall_time: 25ms\n",
      "\n",
      "lec usage %: 0.6183  | safety_controller usage %: 0.3817 | moet:  0.0479 | mean_et: 0.031 \n",
      "============================================================================================\n",
      "speed: 1.5ms, wall_time: 25ms\n",
      "\n",
      "lec usage %: 0.0467  | safety_controller usage %: 0.9533 | moet:  0.0498 | mean_et: 0.0296 \n",
      "============================================================================================\n"
     ]
    }
   ],
   "source": [
    "\n",
    "print(\"speed: 0.6ms, wall_time: 10ms\")\n",
    "summarize_data(r0610)\n",
    "\n",
    "print(\"speed: 1.0ms, wall_time: 10ms\")\n",
    "summarize_data(r1010)\n",
    "\n",
    "print(\"speed: 1.5ms, wall_time: 10ms\")\n",
    "summarize_data(r1510)\n",
    "\n",
    "print(\"speed: 0.6ms, wall_time: 25ms\")\n",
    "summarize_data(r0625)\n",
    "\n",
    "print(\"speed: 1.0ms, wall_time: 25ms\")\n",
    "summarize_data(r1025)\n",
    "\n",
    "print(\"speed: 1.5ms, wall_time: 25ms\")\n",
    "summarize_data(r1525)"
   ]
  }
 ],
 "metadata": {
  "kernelspec": {
   "display_name": "Python 3",
   "language": "python",
   "name": "python3"
  },
  "language_info": {
   "codemirror_mode": {
    "name": "ipython",
    "version": 3
   },
   "file_extension": ".py",
   "mimetype": "text/x-python",
   "name": "python",
   "nbconvert_exporter": "python",
   "pygments_lexer": "ipython3",
   "version": "3.6.8"
  }
 },
 "nbformat": 4,
 "nbformat_minor": 2
}
