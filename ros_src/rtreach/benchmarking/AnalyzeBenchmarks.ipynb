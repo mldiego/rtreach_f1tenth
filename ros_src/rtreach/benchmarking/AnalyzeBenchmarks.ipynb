{
 "cells": [
  {
   "cell_type": "code",
   "execution_count": 2,
   "metadata": {},
   "outputs": [],
   "source": [
    "import pandas as pd\n",
    "import numpy as np "
   ]
  },
  {
   "cell_type": "markdown",
   "metadata": {},
   "source": [
    "## Load the Benchmark Files"
   ]
  },
  {
   "cell_type": "code",
   "execution_count": 3,
   "metadata": {},
   "outputs": [],
   "source": [
    "e2efile = 'e2ebenchmark1.csv'\n",
    "rlfile = 'rl_benchmark1.csv'\n",
    "e2e_data = pd.read_csv(e2efile,header=0)\n",
    "rl_data = pd.read_csv(rlfile,header=0)"
   ]
  },
  {
   "cell_type": "markdown",
   "metadata": {},
   "source": [
    "### RL Experiments"
   ]
  },
  {
   "cell_type": "code",
   "execution_count": 4,
   "metadata": {},
   "outputs": [
    {
     "name": "stdout",
     "output_type": "stream",
     "text": [
      "Reinforcement Learning Controller Results:\n",
      "\n",
      "wcet    0.062651\n",
      "mean_reach_time    0.034038\n"
     ]
    }
   ],
   "source": [
    "rl_mean_wcet = rl_data[['wcet']].mean()\n",
    "rl_mean_reach_time = rl_data[['mean_reach_time']].mean()\n",
    "print(\"Reinforcement Learning Controller Results:\\n\")\n",
    "print(rl_mean_wcet.to_string())\n",
    "print(rl_mean_reach_time.to_string()) "
   ]
  },
  {
   "cell_type": "markdown",
   "metadata": {},
   "source": [
    "### End-to-End Experiments"
   ]
  },
  {
   "cell_type": "code",
   "execution_count": 5,
   "metadata": {},
   "outputs": [
    {
     "name": "stdout",
     "output_type": "stream",
     "text": [
      "End-to-End Controller Results:\n",
      "\n",
      "wcet    0.060406\n",
      "mean_reach_time    0.03257\n"
     ]
    }
   ],
   "source": [
    "mean_wcet = e2e_data[['wcet']].mean()\n",
    "mean_reach_time = e2e_data[['mean_reach_time']].mean()\n",
    "print(\"End-to-End Controller Results:\\n\")\n",
    "print(mean_wcet.to_string())\n",
    "print(mean_reach_time.to_string()) "
   ]
  },
  {
   "cell_type": "markdown",
   "metadata": {},
   "source": [
    "## Analysis of Controller Usage"
   ]
  },
  {
   "cell_type": "code",
   "execution_count": 6,
   "metadata": {},
   "outputs": [
    {
     "name": "stdout",
     "output_type": "stream",
     "text": [
      "RL Controller Usage Results:\n",
      "\n",
      "RL Controller Usage: 0.2993462811001659\n",
      "Safety Controller Usage: 0.7006537188998341\n"
     ]
    }
   ],
   "source": [
    "sum_times = rl_data['time_taken_lec']+rl_data['time_taken_safety_controller']\n",
    "lec_percentage = rl_data['time_taken_lec']/sum_times\n",
    "safety_controller_percentage = rl_data['time_taken_safety_controller']/sum_times\n",
    "\n",
    "mean_lec_percentage =  lec_percentage.mean()\n",
    "mean_safety_controller_percentage = safety_controller_percentage.mean()\n",
    "\n",
    "print(\"RL Controller Usage Results:\\n\")\n",
    "print(\"RL Controller Usage: \"+str(mean_lec_percentage))\n",
    "print(\"Safety Controller Usage: \"+str(mean_safety_controller_percentage))"
   ]
  },
  {
   "cell_type": "code",
   "execution_count": 7,
   "metadata": {},
   "outputs": [
    {
     "name": "stdout",
     "output_type": "stream",
     "text": [
      "End-to-End Controller Usage Results:\n",
      "\n",
      "End-to-End Usage: 0.13942108647883245\n",
      "Safety Controller Usage: 0.8605789135211677\n"
     ]
    }
   ],
   "source": [
    "sum_times = e2e_data['time_taken_lec']+e2e_data['time_taken_safety_controller']\n",
    "lec_percentage = e2e_data['time_taken_lec']/sum_times\n",
    "safety_controller_percentage = e2e_data['time_taken_safety_controller']/sum_times\n",
    "\n",
    "mean_lec_percentage =  lec_percentage.mean()\n",
    "mean_safety_controller_percentage = safety_controller_percentage.mean()\n",
    "\n",
    "print(\"End-to-End Controller Usage Results:\\n\")\n",
    "print(\"End-to-End Usage: \"+str(mean_lec_percentage))\n",
    "print(\"Safety Controller Usage: \"+str(mean_safety_controller_percentage))"
   ]
  }
 ],
 "metadata": {
  "kernelspec": {
   "display_name": "Python 2",
   "language": "python",
   "name": "python2"
  },
  "language_info": {
   "codemirror_mode": {
    "name": "ipython",
    "version": 2
   },
   "file_extension": ".py",
   "mimetype": "text/x-python",
   "name": "python",
   "nbconvert_exporter": "python",
   "pygments_lexer": "ipython2",
   "version": "2.7.16"
  }
 },
 "nbformat": 4,
 "nbformat_minor": 2
}
