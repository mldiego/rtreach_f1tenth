{
 "cells": [
  {
   "cell_type": "code",
   "execution_count": 2,
   "metadata": {},
   "outputs": [],
   "source": [
    "import pandas as pd\n",
    "import numpy as np "
   ]
  },
  {
   "cell_type": "markdown",
   "metadata": {},
   "source": [
    "## Load the Benchmark Files"
   ]
  },
  {
   "cell_type": "code",
   "execution_count": 14,
   "metadata": {},
   "outputs": [],
   "source": [
    "e2efile = 'e2ebenchmark1.csv'\n",
    "e2efile2 = 'e2ebenchmark2.csv'\n",
    "rlfile = 'rl_benchmark1.csv'\n",
    "rlfile2 = 'rl_benchmark2.csv'\n",
    "e2e_data = pd.read_csv(e2efile,header=0)\n",
    "e2e_data2 = pd.read_csv(e2efile2,header=0)\n",
    "rl_data = pd.read_csv(rlfile,header=0)\n",
    "rl_data2 = pd.read_csv(rlfile2,header=0)"
   ]
  },
  {
   "cell_type": "markdown",
   "metadata": {},
   "source": [
    "### RL Experiments  Dell XPS 15"
   ]
  },
  {
   "cell_type": "code",
   "execution_count": 15,
   "metadata": {},
   "outputs": [
    {
     "name": "stdout",
     "output_type": "stream",
     "text": [
      "Reinforcement Learning Controller Results:\n",
      "\n",
      "wcet    0.062651\n",
      "mean_reach_time    0.034038\n"
     ]
    }
   ],
   "source": [
    "rl_mean_wcet = rl_data[['wcet']].mean()\n",
    "rl_mean_reach_time = rl_data[['mean_reach_time']].mean()\n",
    "print(\"Reinforcement Learning Controller Results:\\n\")\n",
    "print(rl_mean_wcet.to_string())\n",
    "print(rl_mean_reach_time.to_string()) "
   ]
  },
  {
   "cell_type": "markdown",
   "metadata": {},
   "source": [
    "### End-to-End Experiments  Dell XPS 15"
   ]
  },
  {
   "cell_type": "code",
   "execution_count": 16,
   "metadata": {},
   "outputs": [
    {
     "name": "stdout",
     "output_type": "stream",
     "text": [
      "End-to-End Controller Results:\n",
      "\n",
      "wcet    0.060406\n",
      "mean_reach_time    0.03257\n"
     ]
    }
   ],
   "source": [
    "mean_wcet = e2e_data[['wcet']].mean()\n",
    "mean_reach_time = e2e_data[['mean_reach_time']].mean()\n",
    "print(\"End-to-End Controller Results:\\n\")\n",
    "print(mean_wcet.to_string())\n",
    "print(mean_reach_time.to_string()) "
   ]
  },
  {
   "cell_type": "markdown",
   "metadata": {},
   "source": [
    "### RL Experiments Dell Precision 2570"
   ]
  },
  {
   "cell_type": "code",
   "execution_count": 18,
   "metadata": {},
   "outputs": [
    {
     "name": "stdout",
     "output_type": "stream",
     "text": [
      "Reinforcement Learning Controller Results:\n",
      "\n",
      "wcet    0.049819\n",
      "mean_reach_time    0.030486\n"
     ]
    }
   ],
   "source": [
    "rl_mean_wcet = rl_data2[['wcet']].mean()\n",
    "rl_mean_reach_time = rl_data2[['mean_reach_time']].mean()\n",
    "print(\"Reinforcement Learning Controller Results:\\n\")\n",
    "print(rl_mean_wcet.to_string())\n",
    "print(rl_mean_reach_time.to_string()) "
   ]
  },
  {
   "cell_type": "markdown",
   "metadata": {},
   "source": [
    "### End-to-End Experiments  Dell Precision 2570"
   ]
  },
  {
   "cell_type": "code",
   "execution_count": 19,
   "metadata": {},
   "outputs": [
    {
     "name": "stdout",
     "output_type": "stream",
     "text": [
      "End-to-End Controller Results:\n",
      "\n",
      "wcet    0.048201\n",
      "mean_reach_time    0.027855\n"
     ]
    }
   ],
   "source": [
    "mean_wcet = e2e_data2[['wcet']].mean()\n",
    "mean_reach_time = e2e_data2[['mean_reach_time']].mean()\n",
    "print(\"End-to-End Controller Results:\\n\")\n",
    "print(mean_wcet.to_string())\n",
    "print(mean_reach_time.to_string()) "
   ]
  },
  {
   "cell_type": "markdown",
   "metadata": {},
   "source": [
    "## Analysis of Controller Usage"
   ]
  },
  {
   "cell_type": "markdown",
   "metadata": {},
   "source": [
    "### Dell XPS 15"
   ]
  },
  {
   "cell_type": "code",
   "execution_count": 9,
   "metadata": {},
   "outputs": [
    {
     "name": "stdout",
     "output_type": "stream",
     "text": [
      "RL Controller Usage Results:\n",
      "\n",
      "RL Controller Usage: 0.2993462811\n",
      "Safety Controller Usage: 0.7006537189\n",
      "Mean Experiment Times: 32.6692219796\n"
     ]
    }
   ],
   "source": [
    "sum_times = rl_data['time_taken_lec']+rl_data['time_taken_safety_controller']\n",
    "lec_percentage = rl_data['time_taken_lec']/sum_times\n",
    "safety_controller_percentage = rl_data['time_taken_safety_controller']/sum_times\n",
    "\n",
    "mean_experiment_time = sum_times.mean()\n",
    "mean_lec_percentage =  lec_percentage.mean()\n",
    "mean_safety_controller_percentage = safety_controller_percentage.mean()\n",
    "\n",
    "print(\"RL Controller Usage Results:\\n\")\n",
    "print(\"RL Controller Usage: \"+str(mean_lec_percentage))\n",
    "print(\"Safety Controller Usage: \"+str(mean_safety_controller_percentage))\n",
    "print(\"Mean Experiment Times: \"+str(mean_experiment_time))"
   ]
  },
  {
   "cell_type": "code",
   "execution_count": 10,
   "metadata": {},
   "outputs": [
    {
     "name": "stdout",
     "output_type": "stream",
     "text": [
      "End-to-End Controller Usage Results:\n",
      "\n",
      "End-to-End Usage: 0.139421086479\n",
      "Safety Controller Usage: 0.860578913521\n",
      "Mean Experiment Times: 21.58138264\n"
     ]
    }
   ],
   "source": [
    "sum_times = e2e_data['time_taken_lec']+e2e_data['time_taken_safety_controller']\n",
    "lec_percentage = e2e_data['time_taken_lec']/sum_times\n",
    "safety_controller_percentage = e2e_data['time_taken_safety_controller']/sum_times\n",
    "\n",
    "mean_experiment_time = sum_times.mean()\n",
    "mean_lec_percentage =  lec_percentage.mean()\n",
    "mean_safety_controller_percentage = safety_controller_percentage.mean()\n",
    "\n",
    "print(\"End-to-End Controller Usage Results:\\n\")\n",
    "print(\"End-to-End Usage: \"+str(mean_lec_percentage))\n",
    "print(\"Safety Controller Usage: \"+str(mean_safety_controller_percentage))\n",
    "print(\"Mean Experiment Times: \"+str(mean_experiment_time))"
   ]
  },
  {
   "cell_type": "markdown",
   "metadata": {},
   "source": [
    "### Dell Precision 2570"
   ]
  },
  {
   "cell_type": "code",
   "execution_count": 20,
   "metadata": {},
   "outputs": [
    {
     "name": "stdout",
     "output_type": "stream",
     "text": [
      "RL Controller Usage Results:\n",
      "\n",
      "RL Controller Usage: 0.455474832825\n",
      "Safety Controller Usage: 0.544525167175\n",
      "Mean Experiment Times: 24.8069171833\n"
     ]
    }
   ],
   "source": [
    "sum_times = rl_data2['time_taken_lec']+rl_data2['time_taken_safety_controller']\n",
    "lec_percentage = rl_data2['time_taken_lec']/sum_times\n",
    "safety_controller_percentage = rl_data2['time_taken_safety_controller']/sum_times\n",
    "\n",
    "mean_experiment_time = sum_times.mean()\n",
    "mean_lec_percentage =  lec_percentage.mean()\n",
    "mean_safety_controller_percentage = safety_controller_percentage.mean()\n",
    "\n",
    "print(\"RL Controller Usage Results:\\n\")\n",
    "print(\"RL Controller Usage: \"+str(mean_lec_percentage))\n",
    "print(\"Safety Controller Usage: \"+str(mean_safety_controller_percentage))\n",
    "print(\"Mean Experiment Times: \"+str(mean_experiment_time))"
   ]
  },
  {
   "cell_type": "code",
   "execution_count": 11,
   "metadata": {},
   "outputs": [
    {
     "name": "stdout",
     "output_type": "stream",
     "text": [
      "End-to-End Controller Usage Results:\n",
      "\n",
      "End-to-End Usage: 0.0780398648112\n",
      "Safety Controller Usage: 0.921960135189\n",
      "Mean Experiment Times: 13.0246171406\n"
     ]
    }
   ],
   "source": [
    "sum_times = e2e_data2['time_taken_lec']+e2e_data2['time_taken_safety_controller']\n",
    "lec_percentage = e2e_data2['time_taken_lec']/sum_times\n",
    "safety_controller_percentage = e2e_data2['time_taken_safety_controller']/sum_times\n",
    "\n",
    "mean_lec_percentage =  lec_percentage.mean()\n",
    "mean_safety_controller_percentage = safety_controller_percentage.mean()\n",
    "mean_experiment_time = sum_times.mean()\n",
    "\n",
    "print(\"End-to-End Controller Usage Results:\\n\")\n",
    "print(\"End-to-End Usage: \"+str(mean_lec_percentage))\n",
    "print(\"Safety Controller Usage: \"+str(mean_safety_controller_percentage))\n",
    "print(\"Mean Experiment Times: \"+str(mean_experiment_time))"
   ]
  }
 ],
 "metadata": {
  "kernelspec": {
   "display_name": "Python 2",
   "language": "python",
   "name": "python2"
  },
  "language_info": {
   "codemirror_mode": {
    "name": "ipython",
    "version": 2
   },
   "file_extension": ".py",
   "mimetype": "text/x-python",
   "name": "python",
   "nbconvert_exporter": "python",
   "pygments_lexer": "ipython2",
   "version": "2.7.15"
  }
 },
 "nbformat": 4,
 "nbformat_minor": 2
}
